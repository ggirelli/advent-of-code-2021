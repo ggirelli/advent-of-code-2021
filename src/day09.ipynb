{
 "cells": [
  {
   "cell_type": "markdown",
   "id": "3f9daa87-3498-4080-9f5d-37d19c78c5e7",
   "metadata": {},
   "source": [
    "# --- Day 9: Smoke Basin ---\n",
    "## Part 1\n",
    "These caves seem to be lava tubes. Parts are even still volcanically active; small hydrothermal vents release smoke into the caves that slowly settles like rain.\n",
    "\n",
    "If you can model how the smoke flows through the caves, you might be able to avoid it and be that much safer. The submarine generates a heightmap of the floor of the nearby caves for you (your puzzle input).\n",
    "\n",
    "Smoke flows to the lowest point of the area it's in. For example, consider the following heightmap:\n",
    "```\n",
    "2199943210\n",
    "3987894921\n",
    "9856789892\n",
    "8767896789\n",
    "9899965678\n",
    "```\n",
    "Each number corresponds to the height of a particular location, where 9 is the highest and 0 is the lowest a location can be.\n",
    "\n",
    "Your first goal is to find the low points - the locations that are lower than any of its adjacent locations. Most locations have four adjacent locations (up, down, left, and right); locations on the edge or corner of the map have three or two adjacent locations, respectively. (Diagonal locations do not count as adjacent.)\n",
    "\n",
    "In the above example, there are four low points, all highlighted: two are in the first row (a 1 and a 0), one is in the third row (a 5), and one is in the bottom row (also a 5). All other locations on the heightmap have some lower adjacent location, and so are not low points.\n",
    "\n",
    "The risk level of a low point is 1 plus its height. In the above example, the risk levels of the low points are 2, 1, 6, and 6. The sum of the risk levels of all low points in the heightmap is therefore 15.\n",
    "\n",
    "Find all of the low points on your heightmap. What is the sum of the risk levels of all low points on your heightmap?\n"
   ]
  },
  {
   "cell_type": "code",
   "execution_count": 1,
   "id": "d2ff463d-aab3-4b8b-b075-3639d8e5f4ca",
   "metadata": {},
   "outputs": [],
   "source": [
    "import numpy as np\n",
    "from skimage.morphology import local_minima\n",
    "from skimage.morphology import diamond"
   ]
  },
  {
   "cell_type": "code",
   "execution_count": 2,
   "id": "e932b11e-a2e7-4686-8cbe-5048581465fb",
   "metadata": {},
   "outputs": [],
   "source": [
    "with open(\"../data/day09.dat\", \"r\") as IH:\n",
    "    heightmap = np.array(list(next(IH).strip())).astype(\"i\")\n",
    "    for line in IH:\n",
    "        heightmap = np.vstack([heightmap, np.array(list(line.strip())).astype(\"i\")])"
   ]
  },
  {
   "cell_type": "code",
   "execution_count": 3,
   "id": "64e0c110-eba3-4d2b-9c57-1c6bbccf55c2",
   "metadata": {},
   "outputs": [
    {
     "data": {
      "text/plain": [
       "575"
      ]
     },
     "execution_count": 3,
     "metadata": {},
     "output_type": "execute_result"
    }
   ],
   "source": [
    "np.sum(heightmap[local_minima(heightmap, footprint=diamond(1))] + 1)"
   ]
  },
  {
   "cell_type": "markdown",
   "id": "e1143b73-731a-413b-87e7-ffe7e141b358",
   "metadata": {},
   "source": [
    "## --- Part Two ---\n",
    "\n",
    "Next, you need to find the largest basins so you know what areas are most important to avoid.\n",
    "\n",
    "A basin is all locations that eventually flow downward to a single low point. Therefore, every low point has a basin, although some basins are very small. Locations of height 9 do not count as being in any basin, and all other locations will always be part of exactly one basin.\n",
    "\n",
    "The size of a basin is the number of locations within the basin, including the low point. The example above has four basins.\n",
    "\n",
    "The top-left basin, size 3:\n",
    "```\n",
    "2199943210\n",
    "3987894921\n",
    "9856789892\n",
    "8767896789\n",
    "9899965678\n",
    "```\n",
    "The top-right basin, size 9:\n",
    "```\n",
    "2199943210\n",
    "3987894921\n",
    "9856789892\n",
    "8767896789\n",
    "9899965678\n",
    "```\n",
    "The middle basin, size 14:\n",
    "```\n",
    "2199943210\n",
    "3987894921\n",
    "9856789892\n",
    "8767896789\n",
    "9899965678\n",
    "```\n",
    "The bottom-right basin, size 9:\n",
    "```\n",
    "2199943210\n",
    "3987894921\n",
    "9856789892\n",
    "8767896789\n",
    "9899965678\n",
    "```\n",
    "Find the three largest basins and multiply their sizes together. In the above example, this is 9 * 14 * 9 = 1134.\n",
    "\n",
    "What do you get if you multiply together the sizes of the three largest basins?\n"
   ]
  },
  {
   "cell_type": "code",
   "execution_count": 4,
   "id": "d36d466d-8225-47a9-b480-ffa0145bb5eb",
   "metadata": {},
   "outputs": [],
   "source": [
    "from scipy.ndimage import distance_transform_edt\n",
    "from skimage.filters.rank import gradient\n",
    "from skimage.measure import label\n",
    "from skimage.segmentation import watershed\n",
    "from typing import Dict"
   ]
  },
  {
   "cell_type": "code",
   "execution_count": 5,
   "id": "9807bef0-5023-430a-87b1-cc91ca4fae81",
   "metadata": {},
   "outputs": [],
   "source": [
    "labeled_basins = label(heightmap != 9, connectivity=1)"
   ]
  },
  {
   "cell_type": "code",
   "execution_count": 6,
   "id": "806731c4-5020-484e-af29-0d2559088d5b",
   "metadata": {},
   "outputs": [],
   "source": [
    "label_sizes: Dict[int, int] = {}\n",
    "for lab in range(1, labeled_basins.max()+1):\n",
    "    label_sizes[lab] = (labeled_basins == lab).sum()"
   ]
  },
  {
   "cell_type": "code",
   "execution_count": 7,
   "id": "e3e5c822-2542-4c14-a7d1-a4fd246f3dfc",
   "metadata": {},
   "outputs": [
    {
     "data": {
      "text/plain": [
       "1019700"
      ]
     },
     "execution_count": 7,
     "metadata": {},
     "output_type": "execute_result"
    }
   ],
   "source": [
    "np.prod(sorted(label_sizes.values())[-3:])"
   ]
  }
 ],
 "metadata": {
  "kernelspec": {
   "display_name": "Python 3",
   "language": "python",
   "name": "python3"
  },
  "language_info": {
   "codemirror_mode": {
    "name": "ipython",
    "version": 3
   },
   "file_extension": ".py",
   "mimetype": "text/x-python",
   "name": "python",
   "nbconvert_exporter": "python",
   "pygments_lexer": "ipython3",
   "version": "3.9.5"
  }
 },
 "nbformat": 4,
 "nbformat_minor": 5
}
