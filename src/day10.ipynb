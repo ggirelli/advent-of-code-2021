{
 "cells": [
  {
   "cell_type": "markdown",
   "id": "b2074cb1-8315-4400-b65a-1680b59e3bf6",
   "metadata": {},
   "source": [
    "# --- Day 10: Syntax Scoring ---\n",
    "## Part 1\n",
    "You ask the submarine to determine the best route out of the deep-sea cave, but it only replies:\n",
    "\n",
    "Syntax error in navigation subsystem on line: all of them\n",
    "\n",
    "All of them?! The damage is worse than you thought. You bring up a copy of the navigation subsystem (your puzzle input).\n",
    "\n",
    "The navigation subsystem syntax is made of several lines containing chunks. There are one or more chunks on each line, and chunks contain zero or more other chunks. Adjacent chunks are not separated by any delimiter; if one chunk stops, the next chunk (if any) can immediately start. Every chunk must open and close with one of four legal pairs of matching characters:\n",
    "```\n",
    "    If a chunk opens with (, it must close with ).\n",
    "    If a chunk opens with [, it must close with ].\n",
    "    If a chunk opens with {, it must close with }.\n",
    "    If a chunk opens with <, it must close with >.\n",
    "```\n",
    "So, () is a legal chunk that contains no other chunks, as is []. More complex but valid chunks include ([]), {()()()}, <([{}])>, [<>({}){}[([])<>]], and even (((((((((()))))))))).\n",
    "\n",
    "Some lines are incomplete, but others are corrupted. Find and discard the corrupted lines first.\n",
    "\n",
    "A corrupted line is one where a chunk closes with the wrong character - that is, where the characters it opens and closes with do not form one of the four legal pairs listed above.\n",
    "\n",
    "Examples of corrupted chunks include (], {()()()>, (((()))}, and <([]){()}[{}]). Such a chunk can appear anywhere within a line, and its presence causes the whole line to be considered corrupted.\n",
    "\n",
    "For example, consider the following navigation subsystem:\n",
    "```\n",
    "[({(<(())[]>[[{[]{<()<>>\n",
    "[(()[<>])]({[<{<<[]>>(\n",
    "{([(<{}[<>[]}>{[]{[(<()>\n",
    "(((({<>}<{<{<>}{[]{[]{}\n",
    "[[<[([]))<([[{}[[()]]]\n",
    "[{[{({}]{}}([{[{{{}}([]\n",
    "{<[[]]>}<{[{[{[]{()[[[]\n",
    "[<(<(<(<{}))><([]([]()\n",
    "<{([([[(<>()){}]>(<<{{\n",
    "<{([{{}}[<[[[<>{}]]]>[]]\n",
    "```\n",
    "Some of the lines aren't corrupted, just incomplete; you can ignore these lines for now. The remaining five lines are corrupted:\n",
    "```\n",
    "    {([(<{}[<>[]}>{[]{[(<()> - Expected ], but found } instead.\n",
    "    [[<[([]))<([[{}[[()]]] - Expected ], but found ) instead.\n",
    "    [{[{({}]{}}([{[{{{}}([] - Expected ), but found ] instead.\n",
    "    [<(<(<(<{}))><([]([]() - Expected >, but found ) instead.\n",
    "    <{([([[(<>()){}]>(<<{{ - Expected ], but found > instead.\n",
    "```\n",
    "Stop at the first incorrect closing character on each corrupted line.\n",
    "\n",
    "Did you know that syntax checkers actually have contests to see who can get the high score for syntax errors in a file? It's true! To calculate the syntax error score for a line, take the first illegal character on the line and look it up in the following table:\n",
    "```\n",
    "    ): 3 points.\n",
    "    ]: 57 points.\n",
    "    }: 1197 points.\n",
    "    >: 25137 points.\n",
    "```\n",
    "In the above example, an illegal ) was found twice (2*3 = 6 points), an illegal ] was found once (57 points), an illegal } was found once (1197 points), and an illegal > was found once (25137 points). So, the total syntax error score for this file is 6+57+1197+25137 = 26397 points!\n",
    "\n",
    "Find the first illegal character in each corrupted line of the navigation subsystem. What is the total syntax error score for those errors?\n"
   ]
  },
  {
   "cell_type": "code",
   "execution_count": 1,
   "id": "e07305fa-4b20-4674-a838-61d9cc101f58",
   "metadata": {},
   "outputs": [],
   "source": [
    "import numpy as np\n",
    "from typing import Dict, Tuple"
   ]
  },
  {
   "cell_type": "code",
   "execution_count": 2,
   "id": "2d271c1a-1e77-4bac-84db-9652af78d3aa",
   "metadata": {},
   "outputs": [],
   "source": [
    "illegal_char_score_dict: Dict[str, int] = {\")\": 3, \"]\": 57, \"}\": 1197, \">\": 25137}"
   ]
  },
  {
   "cell_type": "code",
   "execution_count": 3,
   "id": "9a022d5a-6fe3-4912-8cf9-56bc1f398ea8",
   "metadata": {},
   "outputs": [],
   "source": [
    "with open(\"../data/day10.dat\", \"r\") as IH:\n",
    "    input_lines = [line.strip() for line in IH.readlines()]"
   ]
  },
  {
   "cell_type": "code",
   "execution_count": 4,
   "id": "cfb50345-a66c-48fd-8c33-94a333fdaf66",
   "metadata": {},
   "outputs": [],
   "source": [
    "with open(\"../data/day10.dat\", \"r\") as IH:\n",
    "    input_lines_example = [line.strip() for line in IH.readlines()]"
   ]
  },
  {
   "cell_type": "code",
   "execution_count": 5,
   "id": "ddd4745c-a779-4585-ae69-d28ca9d4f569",
   "metadata": {},
   "outputs": [],
   "source": [
    "lines = input_lines_example"
   ]
  },
  {
   "cell_type": "code",
   "execution_count": 6,
   "id": "011ef8e5-dc59-44d9-ab84-4bc84f40c1ca",
   "metadata": {},
   "outputs": [],
   "source": [
    "closing_to_opening = {\">\": \"<\", \"}\": \"{\", \")\": \"(\", \"]\": \"[\"}"
   ]
  },
  {
   "cell_type": "code",
   "execution_count": 7,
   "id": "dbe120d5-1894-4c7e-9e98-0b82c81f8f58",
   "metadata": {},
   "outputs": [],
   "source": [
    "def is_line_corrupted(line: str) -> Tuple[bool, str]:\n",
    "    currently_open = \"\"\n",
    "    for i in range(len(line)):\n",
    "        if line[i] in closing_to_opening:\n",
    "            if not currently_open:\n",
    "                return True, line[i]\n",
    "            else:\n",
    "                if currently_open[-1] == closing_to_opening[line[i]]:\n",
    "                    currently_open = currently_open[:-1]\n",
    "                else:\n",
    "                    return True, line[i]\n",
    "        else:\n",
    "            currently_open += line[i]\n",
    "    return False, \"\""
   ]
  },
  {
   "cell_type": "code",
   "execution_count": 8,
   "id": "46fc583a-b3e1-461d-9663-abe664061dbd",
   "metadata": {},
   "outputs": [],
   "source": [
    "total_score = 0\n",
    "for toparse in lines:\n",
    "    corrupted, corrupting_char = is_line_corrupted(toparse)\n",
    "    if corrupted:\n",
    "        total_score += illegal_char_score_dict[corrupting_char]"
   ]
  },
  {
   "cell_type": "code",
   "execution_count": 9,
   "id": "39c3dd52-61df-4bcf-9257-f74c06488026",
   "metadata": {},
   "outputs": [
    {
     "data": {
      "text/plain": [
       "369105"
      ]
     },
     "execution_count": 9,
     "metadata": {},
     "output_type": "execute_result"
    }
   ],
   "source": [
    "total_score"
   ]
  },
  {
   "cell_type": "markdown",
   "id": "3e056d40-dbb3-4547-a813-ef8931c52509",
   "metadata": {},
   "source": [
    "## --- Part Two ---\n",
    "\n",
    "Now, discard the corrupted lines. The remaining lines are incomplete.\n",
    "\n",
    "Incomplete lines don't have any incorrect characters - instead, they're missing some closing characters at the end of the line. To repair the navigation subsystem, you just need to figure out the sequence of closing characters that complete all open chunks in the line.\n",
    "\n",
    "You can only use closing characters (), ], }, or >), and you must add them in the correct order so that only legal pairs are formed and all chunks end up closed.\n",
    "\n",
    "In the example above, there are five incomplete lines:\n",
    "```\n",
    "    [({(<(())[]>[[{[]{<()<>> - Complete by adding }}]])})].\n",
    "    [(()[<>])]({[<{<<[]>>( - Complete by adding )}>]}).\n",
    "    (((({<>}<{<{<>}{[]{[]{} - Complete by adding }}>}>)))).\n",
    "    {<[[]]>}<{[{[{[]{()[[[] - Complete by adding ]]}}]}]}>.\n",
    "    <{([{{}}[<[[[<>{}]]]>[]] - Complete by adding ])}>.\n",
    "```\n",
    "Did you know that autocomplete tools also have contests? It's true! The score is determined by considering the completion string character-by-character. Start with a total score of 0. Then, for each character, multiply the total score by 5 and then increase the total score by the point value given for the character in the following table:\n",
    "```\n",
    "    ): 1 point.\n",
    "    ]: 2 points.\n",
    "    }: 3 points.\n",
    "    >: 4 points.\n",
    "```\n",
    "So, the last completion string above - ])}> - would be scored as follows:\n",
    "```\n",
    "    Start with a total score of 0.\n",
    "    Multiply the total score by 5 to get 0, then add the value of ] (2) to get a new total score of 2.\n",
    "    Multiply the total score by 5 to get 10, then add the value of ) (1) to get a new total score of 11.\n",
    "    Multiply the total score by 5 to get 55, then add the value of } (3) to get a new total score of 58.\n",
    "    Multiply the total score by 5 to get 290, then add the value of > (4) to get a new total score of 294.\n",
    "```\n",
    "The five lines' completion strings have total scores as follows:\n",
    "```\n",
    "    }}]])})] - 288957 total points.\n",
    "    )}>]}) - 5566 total points.\n",
    "    }}>}>)))) - 1480781 total points.\n",
    "    ]]}}]}]}> - 995444 total points.\n",
    "    ])}> - 294 total points.\n",
    "```\n",
    "Autocomplete tools are an odd bunch: the winner is found by sorting all of the scores and then taking the middle score. (There will always be an odd number of scores to consider.) In this example, the middle score is 288957 because there are the same number of scores smaller and larger than it.\n",
    "\n",
    "Find the completion string for each incomplete line, score the completion strings, and sort the scores. What is the middle score?\n"
   ]
  },
  {
   "cell_type": "code",
   "execution_count": 10,
   "id": "b5c27757-d133-42ad-a9bf-52744c34cc6b",
   "metadata": {},
   "outputs": [],
   "source": [
    "completing_char_score_dict: Dict[str, int] = {\")\": 1, \"]\": 2, \"}\": 3, \">\": 4}\n",
    "opening_to_closing = {\"<\": \">\", \"{\": \"}\", \"(\": \")\", \"[\": \"]\"}"
   ]
  },
  {
   "cell_type": "code",
   "execution_count": 11,
   "id": "69c7e8a2-5a9d-4f52-98ad-ebcac7ad4999",
   "metadata": {},
   "outputs": [],
   "source": [
    "incomplete_lines = [l for l in lines if not is_line_corrupted(l)[0]]"
   ]
  },
  {
   "cell_type": "code",
   "execution_count": 12,
   "id": "491181bb-c2bd-4538-9da9-ae627d2a2b79",
   "metadata": {},
   "outputs": [],
   "source": [
    "def get_line_completion(line: str) -> str:\n",
    "    currently_open = \"\"\n",
    "    for i in range(len(line)):\n",
    "        if line[i] in closing_to_opening:\n",
    "            assert currently_open\n",
    "            assert currently_open[-1] == closing_to_opening[line[i]]\n",
    "            currently_open = currently_open[:-1]\n",
    "        else:\n",
    "            currently_open += line[i]\n",
    "    return \"\".join([opening_to_closing[c] for c in currently_open[::-1]])\n",
    "\n",
    "def calc_completion_score(completion: str) -> int:\n",
    "    score = 0\n",
    "    for c in completion:\n",
    "        score *= 5\n",
    "        score += completing_char_score_dict[c]\n",
    "    return score"
   ]
  },
  {
   "cell_type": "code",
   "execution_count": 13,
   "id": "a80baaae-0c18-401d-9a88-d429a2b718b0",
   "metadata": {},
   "outputs": [],
   "source": [
    "completion_scores = [calc_completion_score(get_line_completion(line)) for line in incomplete_lines]"
   ]
  },
  {
   "cell_type": "code",
   "execution_count": 14,
   "id": "88d27f52-554b-4ee9-bfac-50ac5e2eba03",
   "metadata": {},
   "outputs": [
    {
     "data": {
      "text/plain": [
       "3999363569"
      ]
     },
     "execution_count": 14,
     "metadata": {},
     "output_type": "execute_result"
    }
   ],
   "source": [
    "sorted(completion_scores)[len(completion_scores)//2]"
   ]
  }
 ],
 "metadata": {
  "kernelspec": {
   "display_name": "Python 3",
   "language": "python",
   "name": "python3"
  },
  "language_info": {
   "codemirror_mode": {
    "name": "ipython",
    "version": 3
   },
   "file_extension": ".py",
   "mimetype": "text/x-python",
   "name": "python",
   "nbconvert_exporter": "python",
   "pygments_lexer": "ipython3",
   "version": "3.9.5"
  }
 },
 "nbformat": 4,
 "nbformat_minor": 5
}
