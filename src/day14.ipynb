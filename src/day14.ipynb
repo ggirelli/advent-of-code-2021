{
 "cells": [
  {
   "cell_type": "markdown",
   "id": "2e28d540-e501-42c7-ab64-d7469d4bd605",
   "metadata": {},
   "source": [
    "# --- Day 14: Extended Polymerization ---\n",
    "## Part 1\n",
    "The incredible pressures at this depth are starting to put a strain on your submarine. The submarine has polymerization equipment that would produce suitable materials to reinforce the submarine, and the nearby volcanically-active caves should even have the necessary input elements in sufficient quantities.\n",
    "\n",
    "The submarine manual contains instructions for finding the optimal polymer formula; specifically, it offers a polymer template and a list of pair insertion rules (your puzzle input). You just need to work out what polymer would result after repeating the pair insertion process a few times.\n",
    "\n",
    "For example:\n",
    "```\n",
    "NNCB\n",
    "\n",
    "CH -> B\n",
    "HH -> N\n",
    "CB -> H\n",
    "NH -> C\n",
    "HB -> C\n",
    "HC -> B\n",
    "HN -> C\n",
    "NN -> C\n",
    "BH -> H\n",
    "NC -> B\n",
    "NB -> B\n",
    "BN -> B\n",
    "BB -> N\n",
    "BC -> B\n",
    "CC -> N\n",
    "CN -> C\n",
    "```\n",
    "The first line is the polymer template - this is the starting point of the process.\n",
    "\n",
    "The following section defines the pair insertion rules. A rule like AB -> C means that when elements A and B are immediately adjacent, element C should be inserted between them. These insertions all happen simultaneously.\n",
    "\n",
    "So, starting with the polymer template NNCB, the first step simultaneously considers all three pairs:\n",
    "\n",
    "    The first pair (NN) matches the rule NN -> C, so element C is inserted between the first N and the second N.\n",
    "    The second pair (NC) matches the rule NC -> B, so element B is inserted between the N and the C.\n",
    "    The third pair (CB) matches the rule CB -> H, so element H is inserted between the C and the B.\n",
    "\n",
    "Note that these pairs overlap: the second element of one pair is the first element of the next pair. Also, because all pairs are considered simultaneously, inserted elements are not considered to be part of a pair until the next step.\n",
    "\n",
    "After the first step of this process, the polymer becomes NCNBCHB.\n",
    "\n",
    "Here are the results of a few steps using the above rules:\n",
    "```\n",
    "Template:     NNCB\n",
    "After step 1: NCNBCHB\n",
    "After step 2: NBCCNBBBCBHCB\n",
    "After step 3: NBBBCNCCNBBNBNBBCHBHHBCHB\n",
    "After step 4: NBBNBNBBCCNBCNCCNBBNBBNBBBNBBNBBCBHCBHHNHCBBCBHCB\n",
    "```\n",
    "This polymer grows quickly. After step 5, it has length 97; After step 10, it has length 3073. After step 10, B occurs 1749 times, C occurs 298 times, H occurs 161 times, and N occurs 865 times; taking the quantity of the most common element (B, 1749) and subtracting the quantity of the least common element (H, 161) produces 1749 - 161 = 1588.\n",
    "\n",
    "Apply 10 steps of pair insertion to the polymer template and find the most and least common elements in the result. What do you get if you take the quantity of the most common element and subtract the quantity of the least common element?\n"
   ]
  },
  {
   "cell_type": "code",
   "execution_count": 1,
   "id": "6eec8000-19a9-4c9f-9705-7eca83c155cf",
   "metadata": {},
   "outputs": [],
   "source": [
    "from collections import defaultdict\n",
    "import copy as cp\n",
    "import pandas as pd\n",
    "from tqdm import tqdm\n",
    "from typing import DefaultDict"
   ]
  },
  {
   "cell_type": "code",
   "execution_count": 2,
   "id": "c5da3d53-d00f-4439-b78b-83ee059399d1",
   "metadata": {},
   "outputs": [],
   "source": [
    "polymer_formula: DefaultDict[str, str] = defaultdict(lambda: \"\")\n",
    "with open(\"../data/day14.dat\", \"r\") as IH:\n",
    "    polymer_template = next(IH).strip()\n",
    "    next(IH)\n",
    "    for line in IH:\n",
    "        dimer, _, output = line.strip().split(\" \")\n",
    "        polymer_formula[dimer] = output"
   ]
  },
  {
   "cell_type": "code",
   "execution_count": 3,
   "id": "483bd677-e971-48e9-a503-f07710f4ad58",
   "metadata": {},
   "outputs": [],
   "source": [
    "def apply_polymer_formula(polymer: str, formula: DefaultDict[str, str]) -> str:\n",
    "    output_polymer = \"\"\n",
    "    for did in range(len(polymer)-1):\n",
    "        output_polymer += polymer[did] + formula[polymer[did:did+2]]\n",
    "    return output_polymer + polymer[-1]"
   ]
  },
  {
   "cell_type": "code",
   "execution_count": 4,
   "id": "6218203c-e3a9-40c5-8bd0-6711b40be77e",
   "metadata": {},
   "outputs": [
    {
     "name": "stdout",
     "output_type": "stream",
     "text": [
      "Template:\tSHHNCOPHONHFBVNKCFFC\n"
     ]
    }
   ],
   "source": [
    "print(f\"Template:\\t{polymer_template}\")"
   ]
  },
  {
   "cell_type": "code",
   "execution_count": 5,
   "id": "5ccbb67b-2850-4950-a0a7-4f7024010950",
   "metadata": {},
   "outputs": [
    {
     "name": "stderr",
     "output_type": "stream",
     "text": [
      "step: 100%|██████████| 10/10 [00:00<00:00, 1003.93it/s]\n"
     ]
    }
   ],
   "source": [
    "# Iteration approach\n",
    "polymer = cp.copy(polymer_template)\n",
    "for step_id in tqdm(range(10), desc=\"step\"):\n",
    "    polymer = apply_polymer_formula(polymer, polymer_formula)"
   ]
  },
  {
   "cell_type": "code",
   "execution_count": 6,
   "id": "ca986599-7b4e-40e0-bf9f-beadd7ac58e2",
   "metadata": {},
   "outputs": [],
   "source": [
    "monomer_counts: DefaultDict[str, int] = defaultdict(lambda: 0)\n",
    "for monomer in polymer:\n",
    "    monomer_counts[monomer] += 1"
   ]
  },
  {
   "cell_type": "code",
   "execution_count": 7,
   "id": "04bbd83f-a1eb-4f33-8fa4-7e346de659f3",
   "metadata": {},
   "outputs": [],
   "source": [
    "monomers = pd.DataFrame(monomer_counts, index=pd.Index([0])).transpose()\n",
    "monomers.columns = [\"count\"]\n",
    "monomers.sort_values(\"count\", inplace=True)"
   ]
  },
  {
   "cell_type": "code",
   "execution_count": 8,
   "id": "4a401a67-12fa-4641-9608-6329994d9789",
   "metadata": {},
   "outputs": [
    {
     "data": {
      "text/plain": [
       "2549"
      ]
     },
     "execution_count": 8,
     "metadata": {},
     "output_type": "execute_result"
    }
   ],
   "source": [
    "monomers[\"count\"].values[-1]-monomers[\"count\"].values[0]"
   ]
  },
  {
   "cell_type": "markdown",
   "id": "dd7892d8-e0a4-4803-b26f-1e226af8d77c",
   "metadata": {},
   "source": [
    "## Minimal approach with dimer counting"
   ]
  },
  {
   "cell_type": "code",
   "execution_count": 9,
   "id": "ed3046db-678e-4249-b827-e418448ca695",
   "metadata": {},
   "outputs": [],
   "source": [
    "def polymer_to_dimer_count(polymer: str) -> DefaultDict[str, int]:\n",
    "    polymer_dimer_count: DefaultDict[str, int] = defaultdict(lambda: 0)\n",
    "    for i in range(len(polymer)):\n",
    "        polymer_dimer_count[polymer[i:i+2]] += 1\n",
    "    return polymer_dimer_count"
   ]
  },
  {
   "cell_type": "code",
   "execution_count": 10,
   "id": "11bf1d76-3f8e-4fd5-93f2-5fa860a48420",
   "metadata": {},
   "outputs": [],
   "source": [
    "def apply_step_to_dimer_count(dimer_count: DefaultDict[str, int], formula: DefaultDict[str, str]) -> DefaultDict[str, int]:\n",
    "    to_add: DefaultDict[str, str] = defaultdict(lambda: 0)\n",
    "    for dimer, nt_insert in formula.items():\n",
    "        if dimer in dimer_count:\n",
    "            to_add[dimer[0] + nt_insert] += dimer_count[dimer]\n",
    "            to_add[nt_insert + dimer[1]] += dimer_count[dimer]\n",
    "            dimer_count[dimer] = 0\n",
    "    for dimer, count in to_add.items():\n",
    "        dimer_count[dimer] += count\n",
    "    return dimer_count"
   ]
  },
  {
   "cell_type": "code",
   "execution_count": 11,
   "id": "251d33fc-adc1-4bb8-b354-7a32edcc9dbd",
   "metadata": {},
   "outputs": [],
   "source": [
    "def dimer_to_monomer_count(dimer_count: DefaultDict[str, int]) -> DefaultDict[str, int]:\n",
    "    monomer_count: DefaultDict[str, int] = defaultdict(lambda: 0)\n",
    "    for dimer, count in dimer_count.items():\n",
    "        monomer_count[dimer[0]] += count\n",
    "    return monomer_count"
   ]
  },
  {
   "cell_type": "code",
   "execution_count": 12,
   "id": "585f257b-a275-49d5-bda5-fe5aa2a7b81e",
   "metadata": {},
   "outputs": [],
   "source": [
    "dimer_count = polymer_to_dimer_count(polymer_template)"
   ]
  },
  {
   "cell_type": "code",
   "execution_count": 13,
   "id": "0e1e4352-058f-4225-9d14-05dd45f6dd20",
   "metadata": {},
   "outputs": [
    {
     "name": "stderr",
     "output_type": "stream",
     "text": [
      "step: 100%|██████████| 10/10 [00:00<00:00, 3789.23it/s]\n"
     ]
    }
   ],
   "source": [
    "for step_id in tqdm(range(10), desc=\"step\"):\n",
    "    dimer_count = apply_step_to_dimer_count(dimer_count, polymer_formula)"
   ]
  },
  {
   "cell_type": "code",
   "execution_count": 14,
   "id": "224548f2-4c44-4fae-8d93-1e139b3723da",
   "metadata": {},
   "outputs": [
    {
     "data": {
      "text/plain": [
       "2549"
      ]
     },
     "execution_count": 14,
     "metadata": {},
     "output_type": "execute_result"
    }
   ],
   "source": [
    "monomer_count = dimer_to_monomer_count(dimer_count)\n",
    "sorted_monomer_count = sorted(list(monomer_count.items()), key=lambda x: x[1])\n",
    "sorted_monomer_count[-1][1] - sorted_monomer_count[0][1]"
   ]
  },
  {
   "cell_type": "markdown",
   "id": "2c247900-087c-4110-8a19-d3080d84bb99",
   "metadata": {},
   "source": [
    "## --- Part Two ---\n",
    "\n",
    "The resulting polymer isn't nearly strong enough to reinforce the submarine. You'll need to run more steps of the pair insertion process; a total of 40 steps should do it.\n",
    "\n",
    "In the above example, the most common element is B (occurring 2192039569602 times) and the least common element is H (occurring 3849876073 times); subtracting these produces 2188189693529.\n",
    "\n",
    "Apply 40 steps of pair insertion to the polymer template and find the most and least common elements in the result. What do you get if you take the quantity of the most common element and subtract the quantity of the least common element?\n"
   ]
  },
  {
   "cell_type": "code",
   "execution_count": 15,
   "id": "8a39e57d-defe-4a99-b9a7-6df8b8d4891b",
   "metadata": {},
   "outputs": [],
   "source": [
    "dimer_count = polymer_to_dimer_count(polymer_template)"
   ]
  },
  {
   "cell_type": "code",
   "execution_count": 16,
   "id": "a4404f5b-d1cd-452a-979d-014e3b0243d8",
   "metadata": {},
   "outputs": [
    {
     "name": "stderr",
     "output_type": "stream",
     "text": [
      "step: 100%|██████████| 40/40 [00:00<00:00, 10313.02it/s]\n"
     ]
    }
   ],
   "source": [
    "for step_id in tqdm(range(40), desc=\"step\"):\n",
    "    dimer_count = apply_step_to_dimer_count(dimer_count, polymer_formula)"
   ]
  },
  {
   "cell_type": "code",
   "execution_count": 17,
   "id": "ac8524ab-f61c-4fa1-9bd2-bebae607c9fa",
   "metadata": {},
   "outputs": [
    {
     "data": {
      "text/plain": [
       "2516901104210"
      ]
     },
     "execution_count": 17,
     "metadata": {},
     "output_type": "execute_result"
    }
   ],
   "source": [
    "monomer_count = dimer_to_monomer_count(dimer_count)\n",
    "sorted_monomer_count = sorted(list(monomer_count.items()), key=lambda x: x[1])\n",
    "sorted_monomer_count[-1][1] - sorted_monomer_count[0][1]"
   ]
  }
 ],
 "metadata": {
  "kernelspec": {
   "display_name": "Python 3",
   "language": "python",
   "name": "python3"
  },
  "language_info": {
   "codemirror_mode": {
    "name": "ipython",
    "version": 3
   },
   "file_extension": ".py",
   "mimetype": "text/x-python",
   "name": "python",
   "nbconvert_exporter": "python",
   "pygments_lexer": "ipython3",
   "version": "3.9.5"
  }
 },
 "nbformat": 4,
 "nbformat_minor": 5
}
