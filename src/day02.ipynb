{
 "cells": [
  {
   "cell_type": "markdown",
   "id": "20faaec7-a58e-4ae0-9745-b767c701fdfc",
   "metadata": {},
   "source": [
    "# --- Day 2: Dive! ---\n",
    "## Part 1\n",
    "Now, you need to figure out how to pilot this thing.\n",
    "\n",
    "It seems like the submarine can take a series of commands like forward 1, down 2, or up 3:\n",
    "\n",
    "    forward X increases the horizontal position by X units.\n",
    "    down X increases the depth by X units.\n",
    "    up X decreases the depth by X units.\n",
    "\n",
    "Note that since you're on a submarine, down and up affect your depth, and so they have the opposite result of what you might expect.\n",
    "\n",
    "The submarine seems to already have a planned course (your puzzle input). You should probably figure out where it's going. For example:\n",
    "\n",
    "forward 5\n",
    "down 5\n",
    "forward 8\n",
    "up 3\n",
    "down 8\n",
    "forward 2\n",
    "\n",
    "Your horizontal position and depth both start at 0. The steps above would then modify them as follows:\n",
    "\n",
    "    forward 5 adds 5 to your horizontal position, a total of 5.\n",
    "    down 5 adds 5 to your depth, resulting in a value of 5.\n",
    "    forward 8 adds 8 to your horizontal position, a total of 13.\n",
    "    up 3 decreases your depth by 3, resulting in a value of 2.\n",
    "    down 8 adds 8 to your depth, resulting in a value of 10.\n",
    "    forward 2 adds 2 to your horizontal position, a total of 15.\n",
    "\n",
    "After following these instructions, you would have a horizontal position of 15 and a depth of 10. (Multiplying these together produces 150.)\n",
    "\n",
    "Calculate the horizontal position and depth you would have after following the planned course. What do you get if you multiply your final horizontal position by your final depth?"
   ]
  },
  {
   "cell_type": "code",
   "execution_count": 1,
   "id": "419868c9-332b-4fd7-8af1-ef704301cfba",
   "metadata": {},
   "outputs": [],
   "source": [
    "horizontal_position = 0\n",
    "depth = 0"
   ]
  },
  {
   "cell_type": "code",
   "execution_count": 2,
   "id": "1a3949b6-e4b7-4e45-bce4-b0d5a4b6a645",
   "metadata": {},
   "outputs": [],
   "source": [
    "with open(\"../data/day02.dat\", \"r\") as IH:\n",
    "    for line in IH:\n",
    "        #print((horizontal_position, depth))\n",
    "        direction, strength_str = line.strip().split()\n",
    "        if direction == \"forward\":\n",
    "            horizontal_position += int(strength_str)\n",
    "        elif direction == \"down\":\n",
    "            depth += int(strength_str)\n",
    "        elif direction == \"up\":\n",
    "            depth -= int(strength_str)"
   ]
  },
  {
   "cell_type": "code",
   "execution_count": 3,
   "id": "b6e789db-6a3c-4761-9e84-c5b091d1222c",
   "metadata": {},
   "outputs": [
    {
     "data": {
      "text/plain": [
       "1480518"
      ]
     },
     "execution_count": 3,
     "metadata": {},
     "output_type": "execute_result"
    }
   ],
   "source": [
    "horizontal_position * depth"
   ]
  },
  {
   "cell_type": "markdown",
   "id": "0067a6c7-ac41-4021-97be-252bea5775b6",
   "metadata": {},
   "source": [
    "## Part Two\n",
    "\n",
    "Based on your calculations, the planned course doesn't seem to make any sense. You find the submarine manual and discover that the process is actually slightly more complicated.\n",
    "\n",
    "In addition to horizontal position and depth, you'll also need to track a third value, aim, which also starts at 0. The commands also mean something entirely different than you first thought:\n",
    "\n",
    "    down X increases your aim by X units.\n",
    "    up X decreases your aim by X units.\n",
    "    forward X does two things:\n",
    "        It increases your horizontal position by X units.\n",
    "        It increases your depth by your aim multiplied by X.\n",
    "\n",
    "Again note that since you're on a submarine, down and up do the opposite of what you might expect: \"down\" means aiming in the positive direction.\n",
    "\n",
    "Now, the above example does something different:\n",
    "\n",
    "    forward 5 adds 5 to your horizontal position, a total of 5. Because your aim is 0, your depth does not change.\n",
    "    down 5 adds 5 to your aim, resulting in a value of 5.\n",
    "    forward 8 adds 8 to your horizontal position, a total of 13. Because your aim is 5, your depth increases by 8*5=40.\n",
    "    up 3 decreases your aim by 3, resulting in a value of 2.\n",
    "    down 8 adds 8 to your aim, resulting in a value of 10.\n",
    "    forward 2 adds 2 to your horizontal position, a total of 15. Because your aim is 10, your depth increases by 2*10=20 to a total of 60.\n",
    "\n",
    "After following these new instructions, you would have a horizontal position of 15 and a depth of 60. (Multiplying these produces 900.)\n",
    "\n",
    "Using this new interpretation of the commands, calculate the horizontal position and depth you would have after following the planned course. What do you get if you multiply your final horizontal position by your final depth?\n"
   ]
  },
  {
   "cell_type": "code",
   "execution_count": 4,
   "id": "0a0fc2a1-6a4f-44c9-815b-f98127cc03f3",
   "metadata": {},
   "outputs": [],
   "source": [
    "horizontal_position = 0\n",
    "depth = 0\n",
    "aim = 0"
   ]
  },
  {
   "cell_type": "code",
   "execution_count": 5,
   "id": "96c81978-d6c8-42cc-967a-0c9b9eb05791",
   "metadata": {},
   "outputs": [],
   "source": [
    "with open(\"../data/day02.dat\", \"r\") as IH:\n",
    "    for line in IH:\n",
    "        #print((horizontal_position, depth))\n",
    "        direction, strength_str = line.strip().split()\n",
    "        if direction == \"forward\":\n",
    "            horizontal_position += int(strength_str)\n",
    "            depth += int(strength_str) * aim\n",
    "        elif direction == \"down\":\n",
    "            aim += int(strength_str)\n",
    "        elif direction == \"up\":\n",
    "            aim -= int(strength_str)"
   ]
  },
  {
   "cell_type": "code",
   "execution_count": 6,
   "id": "4b42cc4c-29a7-4e39-936a-5c6f7109e842",
   "metadata": {},
   "outputs": [
    {
     "data": {
      "text/plain": [
       "1282809906"
      ]
     },
     "execution_count": 6,
     "metadata": {},
     "output_type": "execute_result"
    }
   ],
   "source": [
    "horizontal_position * depth"
   ]
  }
 ],
 "metadata": {
  "kernelspec": {
   "display_name": "Python 3",
   "language": "python",
   "name": "python3"
  },
  "language_info": {
   "codemirror_mode": {
    "name": "ipython",
    "version": 3
   },
   "file_extension": ".py",
   "mimetype": "text/x-python",
   "name": "python",
   "nbconvert_exporter": "python",
   "pygments_lexer": "ipython3",
   "version": "3.9.5"
  }
 },
 "nbformat": 4,
 "nbformat_minor": 5
}
