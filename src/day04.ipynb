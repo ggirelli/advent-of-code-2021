{
 "cells": [
  {
   "cell_type": "markdown",
   "id": "42c23aef-0ff5-496c-8d7a-0a2f42819de5",
   "metadata": {},
   "source": [
    "# --- Day 4: Giant Squid ---\n",
    "## Part 1\n",
    "You're already almost 1.5km (almost a mile) below the surface of the ocean, already so deep that you can't see any sunlight. What you can see, however, is a giant squid that has attached itself to the outside of your submarine.\n",
    "\n",
    "Maybe it wants to play bingo?\n",
    "\n",
    "Bingo is played on a set of boards each consisting of a 5x5 grid of numbers. Numbers are chosen at random, and the chosen number is marked on all boards on which it appears. (Numbers may not appear on all boards.) If all numbers in any row or any column of a board are marked, that board wins. (Diagonals don't count.)\n",
    "\n",
    "The submarine has a bingo subsystem to help passengers (currently, you and the giant squid) pass the time. It automatically generates a random order in which to draw numbers and a random set of boards (your puzzle input). For example:\n",
    "\n",
    "```\n",
    "7,4,9,5,11,17,23,2,0,14,21,24,10,16,13,6,15,25,12,22,18,20,8,19,3,26,1\n",
    "```\n",
    "\n",
    "```\n",
    "22 13 17 11  0\n",
    " 8  2 23  4 24\n",
    "21  9 14 16  7\n",
    " 6 10  3 18  5\n",
    " 1 12 20 15 19\n",
    "```\n",
    "```\n",
    " 3 15  0  2 22\n",
    " 9 18 13 17  5\n",
    "19  8  7 25 23\n",
    "20 11 10 24  4\n",
    "14 21 16 12  6\n",
    "```\n",
    "```\n",
    "14 21 17 24  4\n",
    "10 16 15  9 19\n",
    "18  8 23 26 20\n",
    "22 11 13  6  5\n",
    " 2  0 12  3  7\n",
    "```\n",
    "After the first five numbers are drawn (7, 4, 9, 5, and 11), there are no winners, but the boards are marked as follows (shown here adjacent to each other to save space):\n",
    "```\n",
    "22 13 17 11  0         3 15  0  2 22        14 21 17 24  4\n",
    " 8  2 23  4 24         9 18 13 17  5        10 16 15  9 19\n",
    "21  9 14 16  7        19  8  7 25 23        18  8 23 26 20\n",
    " 6 10  3 18  5        20 11 10 24  4        22 11 13  6  5\n",
    " 1 12 20 15 19        14 21 16 12  6         2  0 12  3  7\n",
    "```\n",
    "After the next six numbers are drawn (17, 23, 2, 0, 14, and 21), there are still no winners:\n",
    "```\n",
    "22 13 17 11  0         3 15  0  2 22        14 21 17 24  4\n",
    " 8  2 23  4 24         9 18 13 17  5        10 16 15  9 19\n",
    "21  9 14 16  7        19  8  7 25 23        18  8 23 26 20\n",
    " 6 10  3 18  5        20 11 10 24  4        22 11 13  6  5\n",
    " 1 12 20 15 19        14 21 16 12  6         2  0 12  3  7\n",
    "```\n",
    "Finally, 24 is drawn:\n",
    "```\n",
    "22 13 17 11  0         3 15  0  2 22        14 21 17 24  4\n",
    " 8  2 23  4 24         9 18 13 17  5        10 16 15  9 19\n",
    "21  9 14 16  7        19  8  7 25 23        18  8 23 26 20\n",
    " 6 10  3 18  5        20 11 10 24  4        22 11 13  6  5\n",
    " 1 12 20 15 19        14 21 16 12  6         2  0 12  3  7\n",
    "```\n",
    "At this point, the third board wins because it has at least one complete row or column of marked numbers (in this case, the entire top row is marked: 14 21 17 24 4).\n",
    "\n",
    "The score of the winning board can now be calculated. Start by finding the sum of all unmarked numbers on that board; in this case, the sum is 188. Then, multiply that sum by the number that was just called when the board won, 24, to get the final score, 188 * 24 = 4512.\n",
    "\n",
    "To guarantee victory against the giant squid, figure out which board will win first. What will your final score be if you choose that board?\n"
   ]
  },
  {
   "cell_type": "code",
   "execution_count": 1,
   "id": "eb617d76-7152-4286-8c14-684e7ea350ec",
   "metadata": {},
   "outputs": [],
   "source": [
    "import numpy as np\n",
    "from typing import List, Set, Tuple"
   ]
  },
  {
   "cell_type": "code",
   "execution_count": 2,
   "id": "21551848-4fe5-4875-8807-2824c6c102c4",
   "metadata": {},
   "outputs": [],
   "source": [
    "with open(\"../data/day04.dat\", \"r\") as IH:\n",
    "    drawn_numbers = [int(x) for x in next(IH).strip().split(\",\")]\n",
    "    \n",
    "    built_boards: np.array = np.zeros((5, 5)).reshape((1, 5, 5))\n",
    "    current_board: List[str] = []\n",
    "    \n",
    "    for line in IH:\n",
    "        if line.strip() == \"\" and len(current_board) != 0:\n",
    "            built_boards = np.append(built_boards, np.array(current_board).astype(\"i\").reshape((1, 5, 5)), axis=0)\n",
    "            current_board = []\n",
    "        current_board.extend(x for x in line.strip().split(\" \") if x != \"\")\n",
    "    \n",
    "    built_boards = np.append(built_boards, np.array(current_board).astype(\"i\").reshape((1, 5, 5)), axis=0)\n",
    "\n",
    "built_boards = built_boards[1:]"
   ]
  },
  {
   "cell_type": "code",
   "execution_count": 3,
   "id": "11399f8e-ee4e-4028-adc5-599de5a39950",
   "metadata": {},
   "outputs": [],
   "source": [
    "def find_winner(drawn_numbers: List[int], built_boards: np.array) -> Tuple[Tuple[np.array, np.array], int]:\n",
    "    matched_board_numbers = np.zeros(built_boards.shape).astype(\"bool\")\n",
    "    \n",
    "    for n in drawn_numbers:\n",
    "        matched_board_numbers = (matched_board_numbers + (built_boards == n)).astype(\"bool\")\n",
    "        winning_board_id_list = set()\n",
    "        \n",
    "        for axis in range(1, 3):\n",
    "            completed_line = (matched_board_numbers.sum(axis) == 5).sum(1) > 0\n",
    "            if any(completed_line):\n",
    "                winning_board_id_list = set.union(winning_board_id_list, set(np.where(completed_line == 1)[0].tolist()))\n",
    "\n",
    "        for winning_board_id in list(winning_board_id_list):\n",
    "            return built_boards[winning_board_id, :, :], matched_board_numbers[winning_board_id, :, :], n, winning_board_id        "
   ]
  },
  {
   "cell_type": "code",
   "execution_count": 4,
   "id": "00e47ca2-51de-460d-91af-26b86a211cf9",
   "metadata": {},
   "outputs": [],
   "source": [
    "board, matched, n, winning_id = find_winner(drawn_numbers, built_boards)"
   ]
  },
  {
   "cell_type": "code",
   "execution_count": 5,
   "id": "58a59cca-68b3-4b24-af2d-44869905fd71",
   "metadata": {},
   "outputs": [
    {
     "data": {
      "text/plain": [
       "8442"
      ]
     },
     "execution_count": 5,
     "metadata": {},
     "output_type": "execute_result"
    }
   ],
   "source": [
    "board[np.logical_not(matched)].sum().astype(\"int\") * n"
   ]
  },
  {
   "cell_type": "markdown",
   "id": "1950727f-6c03-4136-83bc-1de6e0d883d7",
   "metadata": {},
   "source": [
    "## --- Part Two ---\n",
    "\n",
    "On the other hand, it might be wise to try a different strategy: let the giant squid win.\n",
    "\n",
    "You aren't sure how many bingo boards a giant squid could play at once, so rather than waste time counting its arms, the safe thing to do is to figure out which board will win last and choose that one. That way, no matter which boards it picks, it will win for sure.\n",
    "\n",
    "In the above example, the second board is the last to win, which happens after 13 is eventually called and its middle column is completely marked. If you were to keep playing until this point, the second board would have a sum of unmarked numbers equal to 148 for a final score of 148 * 13 = 1924.\n",
    "\n",
    "Figure out which board will win last. Once it wins, what would its final score be?\n"
   ]
  },
  {
   "cell_type": "code",
   "execution_count": 6,
   "id": "e5a3c27f-7104-47fd-bb39-5f037ff66c03",
   "metadata": {},
   "outputs": [],
   "source": [
    "import copy as cp"
   ]
  },
  {
   "cell_type": "code",
   "execution_count": 7,
   "id": "e458a590-e29a-4690-b4f9-35c665032b2e",
   "metadata": {},
   "outputs": [],
   "source": [
    "def find_last_winner(drawn_numbers: List[int], built_boards: np.array) -> List[int]:\n",
    "    matched_board_numbers = np.zeros(built_boards.shape).astype(\"bool\")\n",
    "    has_won = set()\n",
    "    winning_boards_order = []\n",
    "    \n",
    "    for n in drawn_numbers:\n",
    "        matched_board_numbers = (matched_board_numbers + (built_boards == n)).astype(\"bool\")\n",
    "        winning_board_id_list = set()\n",
    "        \n",
    "        for axis in range(1, 3):\n",
    "            completed_line = (matched_board_numbers.sum(axis) == 5).sum(1) > 0\n",
    "            if any(completed_line):\n",
    "                winning_board_id_list = set.union(winning_board_id_list, set(np.where(completed_line == 1)[0].tolist()))\n",
    "\n",
    "        for winning_board_id in list(winning_board_id_list):\n",
    "            if not winning_board_id in has_won:\n",
    "                winning_boards_order.append((built_boards[winning_board_id, :, :], cp.copy(matched_board_numbers[winning_board_id, :, :]), n, winning_board_id))\n",
    "            has_won.add(winning_board_id)\n",
    "            matched_board_numbers[winning_board_id, :, :] = np.zeros((5, 5)).astype(\"bool\")\n",
    "\n",
    "    return winning_boards_order"
   ]
  },
  {
   "cell_type": "code",
   "execution_count": 8,
   "id": "bc3eb77d-ee49-4a20-9f26-f37151e75093",
   "metadata": {},
   "outputs": [],
   "source": [
    "board, matched, n, winning_id = find_last_winner(drawn_numbers, built_boards)[-1]"
   ]
  },
  {
   "cell_type": "code",
   "execution_count": 9,
   "id": "ca6d274d-fe7e-4f12-b74a-2efda4298cdd",
   "metadata": {},
   "outputs": [
    {
     "data": {
      "text/plain": [
       "4590"
      ]
     },
     "execution_count": 9,
     "metadata": {},
     "output_type": "execute_result"
    }
   ],
   "source": [
    "board[np.logical_not(matched)].sum().astype(\"int\")*n"
   ]
  }
 ],
 "metadata": {
  "kernelspec": {
   "display_name": "Python 3",
   "language": "python",
   "name": "python3"
  },
  "language_info": {
   "codemirror_mode": {
    "name": "ipython",
    "version": 3
   },
   "file_extension": ".py",
   "mimetype": "text/x-python",
   "name": "python",
   "nbconvert_exporter": "python",
   "pygments_lexer": "ipython3",
   "version": "3.9.5"
  }
 },
 "nbformat": 4,
 "nbformat_minor": 5
}
