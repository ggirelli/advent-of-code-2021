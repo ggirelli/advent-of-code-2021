{
 "cells": [
  {
   "cell_type": "markdown",
   "id": "4e602435-8fa4-4ff5-a92d-b75e6b4dbe06",
   "metadata": {},
   "source": [
    "# --- Day 3: Binary Diagnostic ---\n",
    "## Part 1\n",
    "The submarine has been making some odd creaking noises, so you ask it to produce a diagnostic report just in case.\n",
    "\n",
    "The diagnostic report (your puzzle input) consists of a list of binary numbers which, when decoded properly, can tell you many useful things about the conditions of the submarine. The first parameter to check is the power consumption.\n",
    "\n",
    "You need to use the binary numbers in the diagnostic report to generate two new binary numbers (called the gamma rate and the epsilon rate). The power consumption can then be found by multiplying the gamma rate by the epsilon rate.\n",
    "\n",
    "Each bit in the gamma rate can be determined by finding the most common bit in the corresponding position of all numbers in the diagnostic report. For example, given the following diagnostic report:\n",
    "\n",
    "00100\n",
    "11110\n",
    "10110\n",
    "10111\n",
    "10101\n",
    "01111\n",
    "00111\n",
    "11100\n",
    "10000\n",
    "11001\n",
    "00010\n",
    "01010\n",
    "\n",
    "Considering only the first bit of each number, there are five 0 bits and seven 1 bits. Since the most common bit is 1, the first bit of the gamma rate is 1.\n",
    "\n",
    "The most common second bit of the numbers in the diagnostic report is 0, so the second bit of the gamma rate is 0.\n",
    "\n",
    "The most common value of the third, fourth, and fifth bits are 1, 1, and 0, respectively, and so the final three bits of the gamma rate are 110.\n",
    "\n",
    "So, the gamma rate is the binary number 10110, or 22 in decimal.\n",
    "\n",
    "The epsilon rate is calculated in a similar way; rather than use the most common bit, the least common bit from each position is used. So, the epsilon rate is 01001, or 9 in decimal. Multiplying the gamma rate (22) by the epsilon rate (9) produces the power consumption, 198.\n",
    "\n",
    "Use the binary numbers in your diagnostic report to calculate the gamma rate and epsilon rate, then multiply them together. What is the power consumption of the submarine? (Be sure to represent your answer in decimal, not binary.)\n"
   ]
  },
  {
   "cell_type": "code",
   "execution_count": 1,
   "id": "b15a6369-51c8-452a-afe8-b08b4f373652",
   "metadata": {},
   "outputs": [],
   "source": [
    "import numpy as np"
   ]
  },
  {
   "cell_type": "code",
   "execution_count": 2,
   "id": "e8996dc7-bc78-4f18-9838-7e74e794a9f3",
   "metadata": {},
   "outputs": [],
   "source": [
    "with open(\"../data/day03.dat\", \"r\") as IH:\n",
    "    binary_input = np.array(list(next(IH).strip())).astype(\"i1\")\n",
    "    for line in IH:\n",
    "        binary_input = np.vstack((binary_input, np.array(list(line.strip())).astype(\"i1\")))"
   ]
  },
  {
   "cell_type": "code",
   "execution_count": 3,
   "id": "a38e8c6b-7e2f-48f6-a942-fd9e86e2b9fa",
   "metadata": {},
   "outputs": [],
   "source": [
    "gamma_rate = int((binary_input.sum(axis=0) > binary_input.shape[0]//2).astype(\"i1\").astype(\"c\").tobytes(), 2)\n",
    "epsilon_rate = int((binary_input.sum(axis=0) < binary_input.shape[0]//2).astype(\"i1\").astype(\"c\").tobytes(), 2)"
   ]
  },
  {
   "cell_type": "code",
   "execution_count": 4,
   "id": "ea3eaef6-c646-4279-ba5c-27363883050e",
   "metadata": {},
   "outputs": [
    {
     "data": {
      "text/plain": [
       "3985686"
      ]
     },
     "execution_count": 4,
     "metadata": {},
     "output_type": "execute_result"
    }
   ],
   "source": [
    "gamma_rate * epsilon_rate"
   ]
  },
  {
   "cell_type": "markdown",
   "id": "725ff1ef-e836-4b2a-b584-5cba98f906bf",
   "metadata": {},
   "source": [
    "## BothPart Two ---\n",
    "\n",
    "Next, you should verify the life support rating, which can be determined by multiplying the oxygen generator rating by the CO2 scrubber rating.\n",
    "\n",
    "Both the oxygen generator rating and the CO2 scrubber rating are values that can be found in your diagnostic report - finding them is the tricky part. Both values are located using a similar process that involves filtering out values until only one remains. Before searching for either rating value, start with the full list of binary numbers from your diagnostic report and consider just the first bit of those numbers. Then:\n",
    "\n",
    "    Keep only numbers selected by the bit criteria for the type of rating value for which you are searching. Discard numbers which do not match the bit criteria.\n",
    "    If you only have one number left, stop; this is the rating value for which you are searching.\n",
    "    Otherwise, repeat the process, considering the next bit to the right.\n",
    "\n",
    "The bit criteria depends on which type of rating value you want to find:\n",
    "\n",
    "    To find oxygen generator rating, determine the most common value (0 or 1) in the current bit position, and keep only numbers with that bit in that position. If 0 and 1 are equally common, keep values with a 1 in the position being considered.\n",
    "    To find CO2 scrubber rating, determine the least common value (0 or 1) in the current bit position, and keep only numbers with that bit in that position. If 0 and 1 are equally common, keep values with a 0 in the position being considered.\n",
    "\n",
    "For example, to determine the oxygen generator rating value using the same example diagnostic report from above:\n",
    "\n",
    "    Start with all 12 numbers and consider only the first bit of each number. There are more 1 bits (7) than 0 bits (5), so keep only the 7 numbers with a 1 in the first position: 11110, 10110, 10111, 10101, 11100, 10000, and 11001.\n",
    "    Then, consider the second bit of the 7 remaining numbers: there are more 0 bits (4) than 1 bits (3), so keep only the 4 numbers with a 0 in the second position: 10110, 10111, 10101, and 10000.\n",
    "    In the third position, three of the four numbers have a 1, so keep those three: 10110, 10111, and 10101.\n",
    "    In the fourth position, two of the three numbers have a 1, so keep those two: 10110 and 10111.\n",
    "    In the fifth position, there are an equal number of 0 bits and 1 bits (one each). So, to find the oxygen generator rating, keep the number with a 1 in that position: 10111.\n",
    "    As there is only one number left, stop; the oxygen generator rating is 10111, or 23 in decimal.\n",
    "\n",
    "Then, to determine the CO2 scrubber rating value from the same example above:\n",
    "\n",
    "    Start again with all 12 numbers and consider only the first bit of each number. There are fewer 0 bits (5) than 1 bits (7), so keep only the 5 numbers with a 0 in the first position: 00100, 01111, 00111, 00010, and 01010.\n",
    "    Then, consider the second bit of the 5 remaining numbers: there are fewer 1 bits (2) than 0 bits (3), so keep only the 2 numbers with a 1 in the second position: 01111 and 01010.\n",
    "    In the third position, there are an equal number of 0 bits and 1 bits (one each). So, to find the CO2 scrubber rating, keep the number with a 0 in that position: 01010.\n",
    "    As there is only one number left, stop; the CO2 scrubber rating is 01010, or 10 in decimal.\n",
    "\n",
    "Finally, to find the life support rating, multiply the oxygen generator rating (23) by the CO2 scrubber rating (10) to get 230.\n",
    "\n",
    "Use the binary numbers in your diagnostic report to calculate the oxygen generator rating and CO2 scrubber rating, then multiply them together. What is the life support rating of the submarine? (Be sure to represent your answer in decimal, not binary.)\n"
   ]
  },
  {
   "cell_type": "code",
   "execution_count": 5,
   "id": "ba26635b-d9fe-413a-aa77-627d43a49eb7",
   "metadata": {},
   "outputs": [],
   "source": [
    "def get_oxygen_generator_rating_value(binary_input, position: int = 0) -> int:\n",
    "    assert position >= 0 and position < binary_input.shape[1]\n",
    "    if binary_input.sum(axis=0)[position] >= binary_input.shape[0]/2:\n",
    "        selected_binary_input = binary_input[binary_input[:, position] == 1]\n",
    "    else:\n",
    "        selected_binary_input = binary_input[binary_input[:, position] == 0]\n",
    "    if selected_binary_input.shape[0] == 1:\n",
    "        return int(selected_binary_input.astype(\"i1\").astype(\"c\").tobytes(), 2)\n",
    "    else:\n",
    "        return get_oxygen_generator_rating_value(selected_binary_input, position+1)\n",
    "\n",
    "def get_co2_scrubbing_rating_value(binary_input, position: int = 0) -> int:\n",
    "    assert position >= 0 and position < binary_input.shape[1]\n",
    "    if binary_input.sum(axis=0)[position] >= binary_input.shape[0]/2:\n",
    "        selected_binary_input = binary_input[binary_input[:, position] == 0]\n",
    "    else:\n",
    "        selected_binary_input = binary_input[binary_input[:, position] == 1]\n",
    "    if selected_binary_input.shape[0] == 1:\n",
    "        return int(selected_binary_input.astype(\"i1\").astype(\"c\").tobytes(), 2)\n",
    "    else:\n",
    "        return get_co2_scrubbing_rating_value(selected_binary_input, position+1)"
   ]
  },
  {
   "cell_type": "code",
   "execution_count": 6,
   "id": "5c91ca9c-560e-4048-8392-b1c6e6d2fc7f",
   "metadata": {},
   "outputs": [],
   "source": [
    "oxygen_generator_rating = get_oxygen_generator_rating_value(binary_input)\n",
    "co2_scrubbing_rating = get_co2_scrubbing_rating_value(binary_input)"
   ]
  },
  {
   "cell_type": "code",
   "execution_count": 7,
   "id": "ddba208b-35f5-4b9f-b3da-fd828c97fc73",
   "metadata": {},
   "outputs": [
    {
     "data": {
      "text/plain": [
       "2555739"
      ]
     },
     "execution_count": 7,
     "metadata": {},
     "output_type": "execute_result"
    }
   ],
   "source": [
    "oxygen_generator_rating * co2_scrubbing_rating"
   ]
  }
 ],
 "metadata": {
  "kernelspec": {
   "display_name": "Python 3",
   "language": "python",
   "name": "python3"
  },
  "language_info": {
   "codemirror_mode": {
    "name": "ipython",
    "version": 3
   },
   "file_extension": ".py",
   "mimetype": "text/x-python",
   "name": "python",
   "nbconvert_exporter": "python",
   "pygments_lexer": "ipython3",
   "version": "3.9.5"
  }
 },
 "nbformat": 4,
 "nbformat_minor": 5
}
