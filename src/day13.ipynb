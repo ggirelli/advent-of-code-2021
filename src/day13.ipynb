{
 "cells": [
  {
   "cell_type": "markdown",
   "id": "e1b32e5e-c727-4ea0-9b13-b0ef69f441bd",
   "metadata": {},
   "source": [
    "# --- Day 13: Transparent Origami ---\n",
    "## Part 1\n",
    "You reach another volcanically active part of the cave. It would be nice if you could do some kind of thermal imaging so you could tell ahead of time which caves are too hot to safely enter.\n",
    "\n",
    "Fortunately, the submarine seems to be equipped with a thermal camera! When you activate it, you are greeted with:\n",
    "\n",
    "Congratulations on your purchase! To activate this infrared thermal imaging\n",
    "camera system, please enter the code found on page 1 of the manual.\n",
    "\n",
    "Apparently, the Elves have never used this feature. To your surprise, you manage to find the manual; as you go to open it, page 1 falls out. It's a large sheet of transparent paper! The transparent paper is marked with random dots and includes instructions on how to fold it up (your puzzle input). For example:\n",
    "```\n",
    "6,10\n",
    "0,14\n",
    "9,10\n",
    "0,3\n",
    "10,4\n",
    "4,11\n",
    "6,0\n",
    "6,12\n",
    "4,1\n",
    "0,13\n",
    "10,12\n",
    "3,4\n",
    "3,0\n",
    "8,4\n",
    "1,10\n",
    "2,14\n",
    "8,10\n",
    "9,0\n",
    "\n",
    "fold along y=7\n",
    "fold along x=5\n",
    "```\n",
    "The first section is a list of dots on the transparent paper. 0,0 represents the top-left coordinate. The first value, x, increases to the right. The second value, y, increases downward. So, the coordinate 3,0 is to the right of 0,0, and the coordinate 0,7 is below 0,0. The coordinates in this example form the following pattern, where # is a dot on the paper and . is an empty, unmarked position:\n",
    "```\n",
    "...#..#..#.\n",
    "....#......\n",
    "...........\n",
    "#..........\n",
    "...#....#.#\n",
    "...........\n",
    "...........\n",
    "...........\n",
    "...........\n",
    "...........\n",
    ".#....#.##.\n",
    "....#......\n",
    "......#...#\n",
    "#..........\n",
    "#.#........\n",
    "```\n",
    "Then, there is a list of fold instructions. Each instruction indicates a line on the transparent paper and wants you to fold the paper up (for horizontal y=... lines) or left (for vertical x=... lines). In this example, the first fold instruction is fold along y=7, which designates the line formed by all of the positions where y is 7 (marked here with -):\n",
    "```\n",
    "...#..#..#.\n",
    "....#......\n",
    "...........\n",
    "#..........\n",
    "...#....#.#\n",
    "...........\n",
    "...........\n",
    "-----------\n",
    "...........\n",
    "...........\n",
    ".#....#.##.\n",
    "....#......\n",
    "......#...#\n",
    "#..........\n",
    "#.#........\n",
    "```\n",
    "Because this is a horizontal line, fold the bottom half up. Some of the dots might end up overlapping after the fold is complete, but dots will never appear exactly on a fold line. The result of doing this fold looks like this:\n",
    "```\n",
    "#.##..#..#.\n",
    "#...#......\n",
    "......#...#\n",
    "#...#......\n",
    ".#.#..#.###\n",
    "...........\n",
    "...........\n",
    "```\n",
    "Now, only 17 dots are visible.\n",
    "\n",
    "Notice, for example, the two dots in the bottom left corner before the transparent paper is folded; after the fold is complete, those dots appear in the top left corner (at 0,0 and 0,1). Because the paper is transparent, the dot just below them in the result (at 0,3) remains visible, as it can be seen through the transparent paper.\n",
    "\n",
    "Also notice that some dots can end up overlapping; in this case, the dots merge together and become a single dot.\n",
    "\n",
    "The second fold instruction is fold along x=5, which indicates this line:\n",
    "```\n",
    "#.##.|#..#.\n",
    "#...#|.....\n",
    ".....|#...#\n",
    "#...#|.....\n",
    ".#.#.|#.###\n",
    ".....|.....\n",
    ".....|.....\n",
    "```\n",
    "Because this is a vertical line, fold left:\n",
    "```\n",
    "#####\n",
    "#...#\n",
    "#...#\n",
    "#...#\n",
    "#####\n",
    ".....\n",
    ".....\n",
    "```\n",
    "The instructions made a square!\n",
    "\n",
    "The transparent paper is pretty big, so for now, focus on just completing the first fold. After the first fold in the example above, 17 dots are visible - dots that end up overlapping after the fold is completed count as a single dot.\n",
    "\n",
    "How many dots are visible after completing just the first fold instruction on your transparent paper?\n"
   ]
  },
  {
   "cell_type": "code",
   "execution_count": 1,
   "id": "4a4dc9b7-1d5a-4ae4-abd8-52dcce5a4537",
   "metadata": {},
   "outputs": [],
   "source": [
    "import numpy as np\n",
    "import pandas as pd\n",
    "import pyparsing as pp\n",
    "from typing import List"
   ]
  },
  {
   "cell_type": "code",
   "execution_count": 2,
   "id": "0c6d8bcf-425c-420f-8c51-60c5117f35e6",
   "metadata": {},
   "outputs": [],
   "source": [
    "coordinates_df_list: List[pd.DataFrame] = []\n",
    "foldings_df_list: List[pd.DataFrame] = []\n",
    "folding_pattern = pp.Word(\"fold along \") + pp.Char(pp.alphas).set_results_name(\"axis\") + \"=\" + pp.Word(pp.nums).set_results_name(\"coordinate\")\n",
    "with open(\"../data/day13.dat\", \"r\") as IH:\n",
    "    for line in IH:\n",
    "        if line.strip() == \"\":\n",
    "            break\n",
    "        x, y = [int(coord) for coord in line.strip().split(\",\")]\n",
    "        coordinates_df_list.append(pd.DataFrame(dict(x=x, y=y), index=pd.Index([0])))\n",
    "    for line in IH:\n",
    "        parsed = folding_pattern.parse_string(line.strip())\n",
    "        foldings_df_list.append(pd.DataFrame(dict(axis=parsed[\"axis\"], coord=int(parsed[\"coordinate\"])), index=pd.Index([0])))"
   ]
  },
  {
   "cell_type": "code",
   "execution_count": 3,
   "id": "08e47abb-c6df-4227-95da-b6630d2a724a",
   "metadata": {},
   "outputs": [],
   "source": [
    "coordinates = pd.concat(coordinates_df_list).reset_index(drop=True)\n",
    "foldings = pd.concat(foldings_df_list).reset_index(drop=True)"
   ]
  },
  {
   "cell_type": "code",
   "execution_count": 4,
   "id": "85fbdfa0-d3d8-45f0-9f7f-bf053d25a939",
   "metadata": {},
   "outputs": [],
   "source": [
    "paper_sizes = coordinates.max()"
   ]
  },
  {
   "cell_type": "code",
   "execution_count": 5,
   "id": "c33ea577-58cc-4918-b7df-79abe7e841ac",
   "metadata": {},
   "outputs": [],
   "source": [
    "paper = np.zeros(paper_sizes+1).transpose()"
   ]
  },
  {
   "cell_type": "code",
   "execution_count": 6,
   "id": "e48a98e8-c6ba-4343-9acf-8f357f7e1f1e",
   "metadata": {},
   "outputs": [],
   "source": [
    "for cid in range(coordinates.shape[0]):\n",
    "    paper[coordinates.loc[cid, \"y\"], coordinates.loc[cid, \"x\"]] = 1"
   ]
  },
  {
   "cell_type": "code",
   "execution_count": 7,
   "id": "c00ca267-681f-45bb-8512-5e27cb01377c",
   "metadata": {},
   "outputs": [],
   "source": [
    "def fold_over_x(paper: np.ndarray, coordinate: int) -> np.ndarray:\n",
    "    first_half = paper[:, :coordinate]\n",
    "    second_half = np.flip(paper[:, coordinate+1:], axis=1)\n",
    "    return ((first_half+second_half) > 0).astype(\"i\")\n",
    "\n",
    "def fold_over_y(paper: np.ndarray, coordinate: int) -> np.ndarray:\n",
    "    first_half = paper[:coordinate, :]\n",
    "    second_half = np.flip(paper[coordinate+1:, :], axis=0)\n",
    "    return ((first_half+second_half) > 0).astype(\"i\")\n",
    "\n",
    "def fold_over_axis(paper: np.ndarray, coordinate: int, axis: str) -> np.ndarray:\n",
    "    assert axis in (\"x\", \"y\")\n",
    "    if axis == \"x\":\n",
    "        return fold_over_x(paper, coordinate)\n",
    "    else:\n",
    "        return fold_over_y(paper, coordinate)"
   ]
  },
  {
   "cell_type": "code",
   "execution_count": 8,
   "id": "54b8b29b-6400-4471-9da6-74220ba057a0",
   "metadata": {},
   "outputs": [
    {
     "data": {
      "text/plain": [
       "802"
      ]
     },
     "execution_count": 8,
     "metadata": {},
     "output_type": "execute_result"
    }
   ],
   "source": [
    "fold_over_axis(paper, foldings.loc[0, \"coord\"], foldings.loc[0, \"axis\"]).sum()"
   ]
  },
  {
   "cell_type": "markdown",
   "id": "3dd965a4-2077-4abe-89f3-464123cb9e7c",
   "metadata": {},
   "source": [
    "## --- Part Two ---\n",
    "\n",
    "Finish folding the transparent paper according to the instructions. The manual says the code is always eight capital letters.\n",
    "\n",
    "What code do you use to activate the infrared thermal imaging camera system?\n"
   ]
  },
  {
   "cell_type": "code",
   "execution_count": 9,
   "id": "a429f6b4-7d25-4fd3-af1e-7781f8355b1c",
   "metadata": {},
   "outputs": [],
   "source": [
    "import copy as cp\n",
    "from matplotlib import pyplot as plt"
   ]
  },
  {
   "cell_type": "code",
   "execution_count": 10,
   "id": "3883a849-5d34-49b7-8441-f59f156cf001",
   "metadata": {},
   "outputs": [],
   "source": [
    "folding_paper = cp.copy(paper)\n",
    "for fid in foldings.index:\n",
    "    folding_paper = fold_over_axis(folding_paper, foldings.loc[fid, \"coord\"], foldings.loc[fid, \"axis\"])"
   ]
  },
  {
   "cell_type": "code",
   "execution_count": 11,
   "id": "5b745630-a95e-4858-baf7-a085ceab2fea",
   "metadata": {},
   "outputs": [
    {
     "data": {
      "text/plain": [
       "<matplotlib.image.AxesImage at 0x7fbe2d5709d0>"
      ]
     },
     "execution_count": 11,
     "metadata": {},
     "output_type": "execute_result"
    },
    {
     "data": {
      "image/png": "[encoded data removed]",
      "text/plain": [
       "<Figure size 432x288 with 1 Axes>"
      ]
     },
     "metadata": {
      "needs_background": "light"
     },
     "output_type": "display_data"
    }
   ],
   "source": [
    "plt.imshow(folding_paper)"
   ]
  }
 ],
 "metadata": {
  "kernelspec": {
   "display_name": "Python 3",
   "language": "python",
   "name": "python3"
  },
  "language_info": {
   "codemirror_mode": {
    "name": "ipython",
    "version": 3
   },
   "file_extension": ".py",
   "mimetype": "text/x-python",
   "name": "python",
   "nbconvert_exporter": "python",
   "pygments_lexer": "ipython3",
   "version": "3.9.5"
  }
 },
 "nbformat": 4,
 "nbformat_minor": 5
}
