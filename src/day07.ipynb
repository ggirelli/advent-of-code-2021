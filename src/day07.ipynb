{
 "cells": [
  {
   "cell_type": "markdown",
   "id": "1ad2c861-dc15-4292-bf91-9487ddb7a98b",
   "metadata": {},
   "source": [
    "# --- Day 7: The Treachery of Whales ---\n",
    "## Part 1\n",
    "A giant whale has decided your submarine is its next meal, and it's much faster than you are. There's nowhere to run!\n",
    "\n",
    "Suddenly, a swarm of crabs (each in its own tiny submarine - it's too deep for them otherwise) zooms in to rescue you! They seem to be preparing to blast a hole in the ocean floor; sensors indicate a massive underground cave system just beyond where they're aiming!\n",
    "\n",
    "The crab submarines all need to be aligned before they'll have enough power to blast a large enough hole for your submarine to get through. However, it doesn't look like they'll be aligned before the whale catches you! Maybe you can help?\n",
    "\n",
    "There's one major catch - crab submarines can only move horizontally.\n",
    "\n",
    "You quickly make a list of the horizontal position of each crab (your puzzle input). Crab submarines have limited fuel, so you need to find a way to make all of their horizontal positions match while requiring them to spend as little fuel as possible.\n",
    "\n",
    "For example, consider the following horizontal positions:\n",
    "```\n",
    "16,1,2,0,4,2,7,1,2,14\n",
    "```\n",
    "This means there's a crab with horizontal position 16, a crab with horizontal position 1, and so on.\n",
    "\n",
    "Each change of 1 step in horizontal position of a single crab costs 1 fuel. You could choose any horizontal position to align them all on, but the one that costs the least fuel is horizontal position 2:\n",
    "```\n",
    "    Move from 16 to 2: 14 fuel\n",
    "    Move from 1 to 2: 1 fuel\n",
    "    Move from 2 to 2: 0 fuel\n",
    "    Move from 0 to 2: 2 fuel\n",
    "    Move from 4 to 2: 2 fuel\n",
    "    Move from 2 to 2: 0 fuel\n",
    "    Move from 7 to 2: 5 fuel\n",
    "    Move from 1 to 2: 1 fuel\n",
    "    Move from 2 to 2: 0 fuel\n",
    "    Move from 14 to 2: 12 fuel\n",
    "```\n",
    "This costs a total of 37 fuel. This is the cheapest possible outcome; more expensive outcomes include aligning at position 1 (41 fuel), position 3 (39 fuel), or position 10 (71 fuel).\n",
    "\n",
    "Determine the horizontal position that the crabs can align to using the least fuel possible. How much fuel must they spend to align to that position?\n"
   ]
  },
  {
   "cell_type": "code",
   "execution_count": 1,
   "id": "9470a7d9-8182-4590-81a7-070ae413185d",
   "metadata": {},
   "outputs": [],
   "source": [
    "from collections import defaultdict\n",
    "import numpy as np\n",
    "from tqdm import tqdm\n",
    "from typing import DefaultDict"
   ]
  },
  {
   "cell_type": "code",
   "execution_count": 2,
   "id": "13403cdc-8871-4530-b477-469f34a18d9d",
   "metadata": {},
   "outputs": [],
   "source": [
    "with open(\"../data/day07.dat\", \"r\") as IH:\n",
    "    crab_submarine_position = np.array(next(IH).strip().split(\",\")).astype(\"i\")"
   ]
  },
  {
   "cell_type": "code",
   "execution_count": 3,
   "id": "11656958-35f7-4667-bc35-6820b34cff22",
   "metadata": {},
   "outputs": [],
   "source": [
    "crab_submarine_position_example = np.array(\"16,1,2,0,4,2,7,1,2,14\".split(\",\")).astype(\"i\")"
   ]
  },
  {
   "cell_type": "code",
   "execution_count": 4,
   "id": "eb0a3c11-4894-4e58-9046-f9e698213a01",
   "metadata": {},
   "outputs": [],
   "source": [
    "crabs = crab_submarine_position"
   ]
  },
  {
   "cell_type": "code",
   "execution_count": 5,
   "id": "eaa6cbf3-0b35-4959-8624-bbc5e23434a2",
   "metadata": {},
   "outputs": [],
   "source": [
    "def fuel_cost_to_align_to_position(crab_position, destination: int) -> int:\n",
    "    return np.absolute(crab_position-destination).sum()"
   ]
  },
  {
   "cell_type": "code",
   "execution_count": 6,
   "id": "7eeb6c77-4d3c-40c8-aa5a-f7b68985106e",
   "metadata": {},
   "outputs": [
    {
     "name": "stderr",
     "output_type": "stream",
     "text": [
      "destination: 100%|██████████| 1878/1878 [00:00<00:00, 88811.88it/s]\n"
     ]
    }
   ],
   "source": [
    "best_position = 0\n",
    "cheapest_cost = np.inf\n",
    "for destination in tqdm(range(crabs.max()), desc=\"destination\"):\n",
    "    current_cost = fuel_cost_to_align_to_position(crabs, destination)\n",
    "    if current_cost < cheapest_cost:\n",
    "        cheapest_cost = current_cost\n",
    "        best_position = destination"
   ]
  },
  {
   "cell_type": "code",
   "execution_count": 7,
   "id": "61d6a711-a6b6-4ac8-adac-b4899156b9a1",
   "metadata": {},
   "outputs": [
    {
     "name": "stdout",
     "output_type": "stream",
     "text": [
      "(341, 349357)\n"
     ]
    }
   ],
   "source": [
    "print((best_position, cheapest_cost))"
   ]
  },
  {
   "cell_type": "markdown",
   "id": "3304a781-ac74-487b-9c37-a74d86652e67",
   "metadata": {},
   "source": [
    "## --- Part Two ---\n",
    "\n",
    "The crabs don't seem interested in your proposed solution. Perhaps you misunderstand crab engineering?\n",
    "\n",
    "As it turns out, crab submarine engines don't burn fuel at a constant rate. Instead, each change of 1 step in horizontal position costs 1 more unit of fuel than the last: the first step costs 1, the second step costs 2, the third step costs 3, and so on.\n",
    "\n",
    "As each crab moves, moving further becomes more expensive. This changes the best horizontal position to align them all on; in the example above, this becomes 5:\n",
    "```\n",
    "    Move from 16 to 5: 66 fuel\n",
    "    Move from 1 to 5: 10 fuel\n",
    "    Move from 2 to 5: 6 fuel\n",
    "    Move from 0 to 5: 15 fuel\n",
    "    Move from 4 to 5: 1 fuel\n",
    "    Move from 2 to 5: 6 fuel\n",
    "    Move from 7 to 5: 3 fuel\n",
    "    Move from 1 to 5: 10 fuel\n",
    "    Move from 2 to 5: 6 fuel\n",
    "    Move from 14 to 5: 45 fuel\n",
    "```\n",
    "This costs a total of 168 fuel. This is the new cheapest possible outcome; the old alignment position (2) now costs 206 fuel instead.\n",
    "\n",
    "Determine the horizontal position that the crabs can align to using the least fuel possible so they can make you an escape route! How much fuel must they spend to align to that position?\n"
   ]
  },
  {
   "cell_type": "code",
   "execution_count": 8,
   "id": "3b6f2a23-4066-4bf7-86dd-facc8527611b",
   "metadata": {},
   "outputs": [],
   "source": [
    "class TriangularNumberDict(defaultdict):\n",
    "    def __missing__(self, key):\n",
    "        self[key] = self.triangular_number(key)\n",
    "        return self[key]\n",
    "\n",
    "    def triangular_number(self, n: int) -> int:\n",
    "        if n <= 1:\n",
    "            return n\n",
    "        else:\n",
    "            return n + self[n-1]\n",
    "\n",
    "triangular_number_memoized: TriangularNumberDict = TriangularNumberDict(lambda: 0)"
   ]
  },
  {
   "cell_type": "code",
   "execution_count": 9,
   "id": "4f4a9896-71ac-44f5-9d04-22fc0bc21bfd",
   "metadata": {},
   "outputs": [],
   "source": [
    "t = [triangular_number_memoized[i] for i in range(crabs.max()+1)]"
   ]
  },
  {
   "cell_type": "code",
   "execution_count": 10,
   "id": "bb5a469a-7462-4e36-8170-be9f7c4c11da",
   "metadata": {},
   "outputs": [],
   "source": [
    "def new_fuel_cost_to_align_to_position(crab_position, destination: int) -> int:\n",
    "    return np.sum([triangular_number_memoized[d] for d in np.absolute(crab_position-destination)])"
   ]
  },
  {
   "cell_type": "code",
   "execution_count": 11,
   "id": "695a9319-746f-4033-bd54-3b330c54d49d",
   "metadata": {},
   "outputs": [
    {
     "name": "stderr",
     "output_type": "stream",
     "text": [
      "destination: 100%|██████████| 1878/1878 [00:02<00:00, 749.68it/s]\n"
     ]
    }
   ],
   "source": [
    "best_position = 0\n",
    "cheapest_cost = np.inf\n",
    "for destination in tqdm(range(crabs.max()), desc=\"destination\"):\n",
    "    current_cost = new_fuel_cost_to_align_to_position(crabs, destination)\n",
    "    if current_cost < cheapest_cost:\n",
    "        cheapest_cost = current_cost\n",
    "        best_position = destination"
   ]
  },
  {
   "cell_type": "code",
   "execution_count": 12,
   "id": "2dddb9ae-bf00-4e32-bbb9-4f954ec2b35b",
   "metadata": {},
   "outputs": [
    {
     "name": "stdout",
     "output_type": "stream",
     "text": [
      "(480, 96708205)\n"
     ]
    }
   ],
   "source": [
    "print((best_position, cheapest_cost))"
   ]
  }
 ],
 "metadata": {
  "kernelspec": {
   "display_name": "Python 3",
   "language": "python",
   "name": "python3"
  },
  "language_info": {
   "codemirror_mode": {
    "name": "ipython",
    "version": 3
   },
   "file_extension": ".py",
   "mimetype": "text/x-python",
   "name": "python",
   "nbconvert_exporter": "python",
   "pygments_lexer": "ipython3",
   "version": "3.9.5"
  }
 },
 "nbformat": 4,
 "nbformat_minor": 5
}
