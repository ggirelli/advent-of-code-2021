{
 "cells": [
  {
   "cell_type": "markdown",
   "id": "82cee7f2-843e-42f2-8113-cd5ebe32f0eb",
   "metadata": {},
   "source": [
    "# --- Day 12: Passage Pathing ---\n",
    "## Part 1\n",
    "With your submarine's subterranean subsystems subsisting suboptimally, the only way you're getting out of this cave anytime soon is by finding a path yourself. Not just a path - the only way to know if you've found the best path is to find all of them.\n",
    "\n",
    "Fortunately, the sensors are still mostly working, and so you build a rough map of the remaining caves (your puzzle input). For example:\n",
    "```\n",
    "start-A\n",
    "start-b\n",
    "A-c\n",
    "A-b\n",
    "b-d\n",
    "A-end\n",
    "b-end\n",
    "```\n",
    "This is a list of how all of the caves are connected. You start in the cave named start, and your destination is the cave named end. An entry like b-d means that cave b is connected to cave d - that is, you can move between them.\n",
    "\n",
    "So, the above cave system looks roughly like this:\n",
    "```\n",
    "    start\n",
    "    /   \\\n",
    "c--A-----b--d\n",
    "    \\   /\n",
    "     end\n",
    "```\n",
    "Your goal is to find the number of distinct paths that start at start, end at end, and don't visit small caves more than once. There are two types of caves: big caves (written in uppercase, like A) and small caves (written in lowercase, like b). It would be a waste of time to visit any small cave more than once, but big caves are large enough that it might be worth visiting them multiple times. So, all paths you find should visit small caves at most once, and can visit big caves any number of times.\n",
    "\n",
    "Given these rules, there are 10 paths through this example cave system:\n",
    "```\n",
    "start,A,b,A,c,A,end\n",
    "start,A,b,A,end\n",
    "start,A,b,end\n",
    "start,A,c,A,b,A,end\n",
    "start,A,c,A,b,end\n",
    "start,A,c,A,end\n",
    "start,A,end\n",
    "start,b,A,c,A,end\n",
    "start,b,A,end\n",
    "start,b,end\n",
    "```\n",
    "(Each line in the above list corresponds to a single path; the caves visited by that path are listed in the order they are visited and separated by commas.)\n",
    "\n",
    "Note that in this cave system, cave d is never visited by any path: to do so, cave b would need to be visited twice (once on the way to cave d and a second time when returning from cave d), and since cave b is small, this is not allowed.\n",
    "\n",
    "Here is a slightly larger example:\n",
    "```\n",
    "dc-end\n",
    "HN-start\n",
    "start-kj\n",
    "dc-start\n",
    "dc-HN\n",
    "LN-dc\n",
    "HN-end\n",
    "kj-sa\n",
    "kj-HN\n",
    "kj-dc\n",
    "```\n",
    "The 19 paths through it are as follows:\n",
    "```\n",
    "start,HN,dc,HN,end\n",
    "start,HN,dc,HN,kj,HN,end\n",
    "start,HN,dc,end\n",
    "start,HN,dc,kj,HN,end\n",
    "start,HN,end\n",
    "start,HN,kj,HN,dc,HN,end\n",
    "start,HN,kj,HN,dc,end\n",
    "start,HN,kj,HN,end\n",
    "start,HN,kj,dc,HN,end\n",
    "start,HN,kj,dc,end\n",
    "start,dc,HN,end\n",
    "start,dc,HN,kj,HN,end\n",
    "start,dc,end\n",
    "start,dc,kj,HN,end\n",
    "start,kj,HN,dc,HN,end\n",
    "start,kj,HN,dc,end\n",
    "start,kj,HN,end\n",
    "start,kj,dc,HN,end\n",
    "start,kj,dc,end\n",
    "```\n",
    "Finally, this even larger example has 226 paths through it:\n",
    "```\n",
    "fs-end\n",
    "he-DX\n",
    "fs-he\n",
    "start-DX\n",
    "pj-DX\n",
    "end-zg\n",
    "zg-sl\n",
    "zg-pj\n",
    "pj-he\n",
    "RW-he\n",
    "fs-DX\n",
    "pj-RW\n",
    "zg-RW\n",
    "start-pj\n",
    "he-WI\n",
    "zg-he\n",
    "pj-fs\n",
    "start-RW\n",
    "```\n",
    "How many paths through this cave system are there that visit small caves at most once?\n"
   ]
  },
  {
   "cell_type": "code",
   "execution_count": 1,
   "id": "6a8c4a22-a834-4717-88df-947aeed98a95",
   "metadata": {},
   "outputs": [],
   "source": [
    "from collections import defaultdict\n",
    "import numpy as np\n",
    "from typing import DefaultDict, List"
   ]
  },
  {
   "cell_type": "code",
   "execution_count": 2,
   "id": "1ecfc264-af78-492e-ae73-314411fe82e0",
   "metadata": {},
   "outputs": [],
   "source": [
    "cavemap_input: DefaultDict[str, List[str]] = defaultdict(lambda: [])\n",
    "with open(\"../data/day12.dat\", \"r\") as IH:\n",
    "    for line in IH:\n",
    "        from_node, to_node = line.strip().split(\"-\")\n",
    "        cavemap_input[from_node].append(to_node)\n",
    "        cavemap_input[to_node].append(from_node)"
   ]
  },
  {
   "cell_type": "code",
   "execution_count": 3,
   "id": "0d338b4f-c861-4559-8783-0b651e29d7a9",
   "metadata": {},
   "outputs": [],
   "source": [
    "cavemap_example0: DefaultDict[str, List[str]] = defaultdict(lambda: [])\n",
    "with open(\"../data/day12.example0.dat\", \"r\") as IH:\n",
    "    for line in IH:\n",
    "        from_node, to_node = line.strip().split(\"-\")\n",
    "        cavemap_example0[from_node].append(to_node)\n",
    "        cavemap_example0[to_node].append(from_node)"
   ]
  },
  {
   "cell_type": "code",
   "execution_count": 4,
   "id": "c4bb366a-82a3-4ba4-b49c-e4b920e062b9",
   "metadata": {},
   "outputs": [],
   "source": [
    "cavemap_example1: DefaultDict[str, List[str]] = defaultdict(lambda: [])\n",
    "with open(\"../data/day12.example1.dat\", \"r\") as IH:\n",
    "    for line in IH:\n",
    "        from_node, to_node = line.strip().split(\"-\")\n",
    "        cavemap_example1[from_node].append(to_node)\n",
    "        cavemap_example1[to_node].append(from_node)"
   ]
  },
  {
   "cell_type": "code",
   "execution_count": 5,
   "id": "8072eecc-e648-4ef3-b905-2a93482c1f20",
   "metadata": {},
   "outputs": [],
   "source": [
    "cavemap_example2: DefaultDict[str, List[str]] = defaultdict(lambda: [])\n",
    "with open(\"../data/day12.example2.dat\", \"r\") as IH:\n",
    "    for line in IH:\n",
    "        from_node, to_node = line.strip().split(\"-\")\n",
    "        cavemap_example2[from_node].append(to_node)\n",
    "        cavemap_example2[to_node].append(from_node)"
   ]
  },
  {
   "cell_type": "code",
   "execution_count": 6,
   "id": "0c4a92fc-1812-40db-9b24-9ba5cc4e5070",
   "metadata": {},
   "outputs": [],
   "source": [
    "cavemap = cavemap_input"
   ]
  },
  {
   "cell_type": "code",
   "execution_count": 7,
   "id": "d77613c8-be06-4353-83c3-6d2f04d9b392",
   "metadata": {},
   "outputs": [],
   "source": [
    "current_paths: List[List[str]] = [[\"start\", next_cave] for next_cave in cavemap[\"start\"]]\n",
    "while not all([path[-1] == \"end\" for path in current_paths]):\n",
    "    new_paths = []\n",
    "    \n",
    "    for path in current_paths:\n",
    "        last_cave = path[-1]\n",
    "        if last_cave == \"end\":\n",
    "            new_paths.append(path)\n",
    "            continue\n",
    "            \n",
    "        next_cave_list = cavemap[last_cave]\n",
    "        for next_cave in next_cave_list:\n",
    "            if next_cave.islower() and next_cave in path:\n",
    "                continue\n",
    "            new_paths.append([*path, next_cave])\n",
    "            \n",
    "    current_paths = new_paths"
   ]
  },
  {
   "cell_type": "code",
   "execution_count": 8,
   "id": "70f6b694-3230-4283-af77-ab6dd4a12721",
   "metadata": {},
   "outputs": [
    {
     "data": {
      "text/plain": [
       "3856"
      ]
     },
     "execution_count": 8,
     "metadata": {},
     "output_type": "execute_result"
    }
   ],
   "source": [
    "sum([any([cave.islower() for cave in path[1:-1]]) for path in current_paths])"
   ]
  },
  {
   "cell_type": "markdown",
   "id": "618a3d28-48f0-4b29-a882-c56518aa0ffb",
   "metadata": {},
   "source": [
    "## --- Part Two ---\n",
    "\n",
    "After reviewing the available paths, you realize you might have time to visit a single small cave twice. Specifically, big caves can be visited any number of times, a single small cave can be visited at most twice, and the remaining small caves can be visited at most once. However, the caves named start and end can only be visited exactly once each: once you leave the start cave, you may not return to it, and once you reach the end cave, the path must end immediately.\n",
    "\n",
    "Now, the 36 possible paths through the first example above are:\n",
    "```\n",
    "start,A,b,A,b,A,c,A,end\n",
    "start,A,b,A,b,A,end\n",
    "start,A,b,A,b,end\n",
    "start,A,b,A,c,A,b,A,end\n",
    "start,A,b,A,c,A,b,end\n",
    "start,A,b,A,c,A,c,A,end\n",
    "start,A,b,A,c,A,end\n",
    "start,A,b,A,end\n",
    "start,A,b,d,b,A,c,A,end\n",
    "start,A,b,d,b,A,end\n",
    "start,A,b,d,b,end\n",
    "start,A,b,end\n",
    "start,A,c,A,b,A,b,A,end\n",
    "start,A,c,A,b,A,b,end\n",
    "start,A,c,A,b,A,c,A,end\n",
    "start,A,c,A,b,A,end\n",
    "start,A,c,A,b,d,b,A,end\n",
    "start,A,c,A,b,d,b,end\n",
    "start,A,c,A,b,end\n",
    "start,A,c,A,c,A,b,A,end\n",
    "start,A,c,A,c,A,b,end\n",
    "start,A,c,A,c,A,end\n",
    "start,A,c,A,end\n",
    "start,A,end\n",
    "start,b,A,b,A,c,A,end\n",
    "start,b,A,b,A,end\n",
    "start,b,A,b,end\n",
    "start,b,A,c,A,b,A,end\n",
    "start,b,A,c,A,b,end\n",
    "start,b,A,c,A,c,A,end\n",
    "start,b,A,c,A,end\n",
    "start,b,A,end\n",
    "start,b,d,b,A,c,A,end\n",
    "start,b,d,b,A,end\n",
    "start,b,d,b,end\n",
    "start,b,end\n",
    "```\n",
    "The slightly larger example above now has 103 paths through it, and the even larger example now has 3509 paths through it.\n",
    "\n",
    "Given these new rules, how many paths through this cave system are there?\n"
   ]
  },
  {
   "cell_type": "code",
   "execution_count": 9,
   "id": "2b80a43f-b06a-4182-95d3-31d3ab633f2d",
   "metadata": {},
   "outputs": [],
   "source": [
    "from typing import Tuple"
   ]
  },
  {
   "cell_type": "code",
   "execution_count": 10,
   "id": "2fd1b766-d50c-49d9-9adb-ccd31d02f939",
   "metadata": {},
   "outputs": [],
   "source": [
    "cavemap = cavemap_input"
   ]
  },
  {
   "cell_type": "code",
   "execution_count": 11,
   "id": "e38ac10d-b7bd-477d-8c9b-7214a46837fc",
   "metadata": {},
   "outputs": [],
   "source": [
    "current_paths: List[List[Tuple[str, bool]]] = [([\"start\", next_cave], False) for next_cave in cavemap[\"start\"]]\n",
    "while not all([path[-1] == \"end\" for path, _ in current_paths]):\n",
    "    new_paths = []\n",
    "    \n",
    "    for path, visited_a_small_cave_twice in current_paths:\n",
    "        last_cave = path[-1]\n",
    "        if last_cave == \"end\":\n",
    "            new_paths.append((path, visited_a_small_cave_twice))\n",
    "            continue\n",
    "            \n",
    "        next_cave_list = cavemap[last_cave]\n",
    "        for next_cave in next_cave_list:\n",
    "            if next_cave == \"start\":\n",
    "                continue\n",
    "                \n",
    "            if next_cave.islower():\n",
    "                if next_cave in path:\n",
    "                    if not visited_a_small_cave_twice:\n",
    "                        new_paths.append(([*path, next_cave], True))\n",
    "                    else:\n",
    "                        continue\n",
    "                else:\n",
    "                    new_paths.append(([*path, next_cave], visited_a_small_cave_twice))\n",
    "            else:\n",
    "                new_paths.append(([*path, next_cave], visited_a_small_cave_twice))\n",
    "\n",
    "    current_paths = new_paths"
   ]
  },
  {
   "cell_type": "code",
   "execution_count": 12,
   "id": "d0050250-fa5a-4efa-8e34-82ee42c824db",
   "metadata": {},
   "outputs": [
    {
     "data": {
      "text/plain": [
       "116692"
      ]
     },
     "execution_count": 12,
     "metadata": {},
     "output_type": "execute_result"
    }
   ],
   "source": [
    "len(current_paths)"
   ]
  }
 ],
 "metadata": {
  "kernelspec": {
   "display_name": "Python 3",
   "language": "python",
   "name": "python3"
  },
  "language_info": {
   "codemirror_mode": {
    "name": "ipython",
    "version": 3
   },
   "file_extension": ".py",
   "mimetype": "text/x-python",
   "name": "python",
   "nbconvert_exporter": "python",
   "pygments_lexer": "ipython3",
   "version": "3.9.5"
  }
 },
 "nbformat": 4,
 "nbformat_minor": 5
}
