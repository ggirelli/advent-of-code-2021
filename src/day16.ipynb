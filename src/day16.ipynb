{
 "cells": [
  {
   "cell_type": "markdown",
   "id": "192e7dff-0c1f-4a3e-8e1c-fee7f3864156",
   "metadata": {},
   "source": [
    "# --- Day 16: Packet Decoder ---\n",
    "## Part 1\n",
    "As you leave the cave and reach open waters, you receive a transmission from the Elves back on the ship.\n",
    "\n",
    "The transmission was sent using the Buoyancy Interchange Transmission System (BITS), a method of packing numeric expressions into a binary sequence. Your submarine's computer has saved the transmission in hexadecimal (your puzzle input).\n",
    "\n",
    "The first step of decoding the message is to convert the hexadecimal representation into binary. Each character of hexadecimal corresponds to four bits of binary data:\n",
    "```\n",
    "0 = 0000\n",
    "1 = 0001\n",
    "2 = 0010\n",
    "3 = 0011\n",
    "4 = 0100\n",
    "5 = 0101\n",
    "6 = 0110\n",
    "7 = 0111\n",
    "8 = 1000\n",
    "9 = 1001\n",
    "A = 1010\n",
    "B = 1011\n",
    "C = 1100\n",
    "D = 1101\n",
    "E = 1110\n",
    "F = 1111\n",
    "```\n",
    "The BITS transmission contains a single packet at its outermost layer which itself contains many other packets. The hexadecimal representation of this packet might encode a few extra 0 bits at the end; these are not part of the transmission and should be ignored.\n",
    "\n",
    "Every packet begins with a standard header: the first three bits encode the packet version, and the next three bits encode the packet type ID. These two values are numbers; all numbers encoded in any packet are represented as binary with the most significant bit first. For example, a version encoded as the binary sequence 100 represents the number 4.\n",
    "\n",
    "Packets with type ID 4 represent a literal value. Literal value packets encode a single binary number. To do this, the binary number is padded with leading zeroes until its length is a multiple of four bits, and then it is broken into groups of four bits. Each group is prefixed by a 1 bit except the last group, which is prefixed by a 0 bit. These groups of five bits immediately follow the packet header. For example, the hexadecimal string D2FE28 becomes:\n",
    "```\n",
    "110100101111111000101000\n",
    "VVVTTTAAAAABBBBBCCCCC\n",
    "```\n",
    "Below each bit is a label indicating its purpose:\n",
    "\n",
    "- The three bits labeled V (110) are the packet version, 6.\n",
    "- The three bits labeled T (100) are the packet type ID, 4, which means the packet is a literal value.\n",
    "- The five bits labeled A (10111) start with a 1 (not the last group, keep reading) and contain the first four bits of the number, 0111.\n",
    "- The five bits labeled B (11110) start with a 1 (not the last group, keep reading) and contain four more bits of the number, 1110.\n",
    "- The five bits labeled C (00101) start with a 0 (last group, end of packet) and contain the last four bits of the number, 0101.\n",
    "- The three unlabeled 0 bits at the end are extra due to the hexadecimal representation and should be ignored.\n",
    "\n",
    "So, this packet represents a literal value with binary representation 011111100101, which is 2021 in decimal.\n",
    "\n",
    "Every other type of packet (any packet with a type ID other than 4) represent an operator that performs some calculation on one or more sub-packets contained within. Right now, the specific operations aren't important; focus on parsing the hierarchy of sub-packets.\n",
    "\n",
    "An operator packet contains one or more packets. To indicate which subsequent binary data represents its sub-packets, an operator packet can use one of two modes indicated by the bit immediately after the packet header; this is called the length type ID:\n",
    "\n",
    "- If the length type ID is 0, then the next 15 bits are a number that represents the total length in bits of the sub-packets contained by this packet.\n",
    "- If the length type ID is 1, then the next 11 bits are a number that represents the number of sub-packets immediately contained by this packet.\n",
    "\n",
    "Finally, after the length type ID bit and the 15-bit or 11-bit field, the sub-packets appear.\n",
    "\n",
    "For example, here is an operator packet (hexadecimal string 38006F45291200) with length type ID 0 that contains two sub-packets:\n",
    "```\n",
    "00111000000000000110111101000101001010010001001000000000\n",
    "VVVTTTILLLLLLLLLLLLLLLAAAAAAAAAAABBBBBBBBBBBBBBBB\n",
    "```\n",
    "\n",
    "- The three bits labeled V (001) are the packet version, 1.\n",
    "- The three bits labeled T (110) are the packet type ID, 6, which means the packet is an operator.\n",
    "- The bit labeled I (0) is the length type ID, which indicates that the length is a 15-bit number representing the number of bits in the sub-packets.\n",
    "- The 15 bits labeled L (000000000011011) contain the length of the sub-packets in bits, 27.\n",
    "- The 11 bits labeled A contain the first sub-packet, a literal value representing the number 10.\n",
    "- The 16 bits labeled B contain the second sub-packet, a literal value representing the number 20.\n",
    "\n",
    "After reading 11 and 16 bits of sub-packet data, the total length indicated in L (27) is reached, and so parsing of this packet stops.\n",
    "\n",
    "As another example, here is an operator packet (hexadecimal string EE00D40C823060) with length type ID 1 that contains three sub-packets:\n",
    "```\n",
    "11101110000000001101010000001100100000100011000001100000\n",
    "VVVTTTILLLLLLLLLLLAAAAAAAAAAABBBBBBBBBBBCCCCCCCCCCC\n",
    "```\n",
    "\n",
    "- The three bits labeled V (111) are the packet version, 7.\n",
    "- The three bits labeled T (011) are the packet type ID, 3, which means the packet is an operator.\n",
    "- The bit labeled I (1) is the length type ID, which indicates that the length is a 11-bit number representing the number of sub-packets.\n",
    "- The 11 bits labeled L (00000000011) contain the number of sub-packets, 3.\n",
    "- The 11 bits labeled A contain the first sub-packet, a literal value representing the number 1.\n",
    "- The 11 bits labeled B contain the second sub-packet, a literal value representing the number 2.\n",
    "- The 11 bits labeled C contain the third sub-packet, a literal value representing the number 3.\n",
    "\n",
    "After reading 3 complete sub-packets, the number of sub-packets indicated in L (3) is reached, and so parsing of this packet stops.\n",
    "\n",
    "For now, parse the hierarchy of the packets throughout the transmission and add up all of the version numbers.\n",
    "\n",
    "Here are a few more examples of hexadecimal-encoded transmissions:\n",
    "\n",
    "- 8A004A801A8002F478 represents an operator packet (version 4) which contains an operator packet (version 1) which contains an operator packet (version 5) which contains a literal value (version 6); this packet has a version sum of 16.\n",
    "- 620080001611562C8802118E34 represents an operator packet (version 3) which contains two sub-packets; each sub-packet is an operator packet that contains two literal values. This packet has a version sum of 12.\n",
    "- C0015000016115A2E0802F182340 has the same structure as the previous example, but the outermost packet uses a different length type ID. This packet has a version sum of 23.\n",
    "- A0016C880162017C3686B18A3D4780 is an operator packet that contains an operator packet that contains an operator packet that contains five literal values; it has a version sum of 31.\n",
    "\n",
    "Decode the structure of your hexadecimal-encoded BITS transmission; what do you get if you add up the version numbers in all packets?\n"
   ]
  },
  {
   "cell_type": "code",
   "execution_count": 1,
   "id": "6fa728a9-c604-4514-9530-fb6a3c821dd2",
   "metadata": {},
   "outputs": [],
   "source": [
    "from enum import Enum\n",
    "import numpy as np\n",
    "from typing import Dict, List, Tuple"
   ]
  },
  {
   "cell_type": "code",
   "execution_count": 2,
   "id": "538fa85c-a3db-4d0b-8dbd-03626523ebca",
   "metadata": {
    "tags": []
   },
   "outputs": [],
   "source": [
    "class Packet:\n",
    "    class PacketType(Enum):\n",
    "        LITERAL = 0\n",
    "        OPERATOR = 1\n",
    "    \n",
    "    class InputType(Enum):\n",
    "        HEXADEC = 16\n",
    "        BINARY = 2\n",
    "        \n",
    "    __hex2bin_dict: Dict[str, bin] = {\n",
    "        \"0\":\"0000\", \"1\":\"0001\", \"2\":\"0010\", \"3\":\"0011\",\n",
    "        \"4\":\"0100\", \"5\":\"0101\", \"6\":\"0110\", \"7\":\"0111\",\n",
    "        \"8\":\"1000\", \"9\":\"1001\", \"A\":\"1010\", \"B\":\"1011\",\n",
    "        \"C\":\"1100\", \"D\":\"1101\", \"E\":\"1110\", \"F\":\"1111\"\n",
    "    }\n",
    "    __hex: str\n",
    "    __bits: str\n",
    "    __subpackets: List[\"Packet\"]\n",
    "    __length_type_id: int\n",
    "    __subpackets_length: int\n",
    "    __expected_n_subpackets: int\n",
    "    __remainder: str\n",
    "    \n",
    "    __literal_bits: str\n",
    "    __literal_value: int\n",
    "\n",
    "    def __init__(self, input_string: str, input_type: InputType = InputType.HEXADEC):\n",
    "        if input_type == self.InputType.HEXADEC:\n",
    "            self.__hex = input_string\n",
    "            self.__bits = \"\".join([self.__hex2bin_dict[char] for char in self.hexadec])\n",
    "        else:\n",
    "            self.__hex = \"\"\n",
    "            self.__bits = input_string\n",
    "        self.__subpackets = []\n",
    "        if self.packet_type == self.PacketType.OPERATOR:\n",
    "            self.__length_type_id = int(self.__bits[6])\n",
    "            self.__exploit_length_type_id()\n",
    "        else:\n",
    "            self.__parse_literal_value()\n",
    "    \n",
    "    @property\n",
    "    def hexadec(self) -> str:\n",
    "        return self.__hex\n",
    "    \n",
    "    @property\n",
    "    def bits(self) -> str:\n",
    "        return self.__bits\n",
    "    \n",
    "    @property\n",
    "    def version(self) -> int:\n",
    "        return int(self.__bits[:3], 2)\n",
    "    \n",
    "    @property\n",
    "    def packet_id(self) -> int:\n",
    "        return int(self.__bits[3:6], 2)\n",
    "    \n",
    "    @property\n",
    "    def packet_type(self) -> PacketType:\n",
    "        return self.PacketType.LITERAL if self.packet_id == 4 else self.PacketType.OPERATOR\n",
    "    \n",
    "    @property\n",
    "    def length_type_ID(self) -> Tuple[int, int]:\n",
    "        if self.__length_type_id:\n",
    "            return (self.__length_type_id, self.__expected_subpackets)\n",
    "        else:\n",
    "            return (self.__length_type_id, self.__subpacket_length)\n",
    "    \n",
    "    @property\n",
    "    def n_subpackets(self) -> int:\n",
    "        return len(self.__subpackets)\n",
    "    \n",
    "    @property\n",
    "    def remainder(self) -> str:\n",
    "        return self.__remainder\n",
    "    \n",
    "    @staticmethod\n",
    "    def hex2bin(hex_string: str) -> str:\n",
    "        return \"\".join([Packet.__hex2bin_dict[char] for char in hex_string])\n",
    "    \n",
    "    def iterative_version_sum(self) -> int:\n",
    "        return self.version + sum([sp.iterative_version_sum() for sp in self.__subpackets])\n",
    "    \n",
    "    def reset_remainder(self) -> None:\n",
    "        self.__remainder = \"\"\n",
    "    \n",
    "    def has_remainder(self) -> bool:\n",
    "        return any([c != \"0\" for c in self.__remainder])\n",
    "    \n",
    "    def get_all_bits(self) -> str:\n",
    "        return self.bits + \"\".join([sp.get_all_bits() for sp in self.__subpackets]) + (self.__remainder if not self.has_remainder() else \"\")\n",
    "    \n",
    "    def __exploit_length_type_id(self) -> None:\n",
    "        if self.__length_type_id:\n",
    "            self.__expected_subpackets = int(self.__bits[7:18], 2)\n",
    "            self.__subpackets.append(Packet(self.__bits[18:], self.InputType.BINARY))\n",
    "            while self.__subpackets[-1].has_remainder() and self.__expected_subpackets > 1:\n",
    "                self.__subpackets.append(Packet(self.__subpackets[-1].remainder, self.InputType.BINARY))\n",
    "                self.__subpackets[-2].reset_remainder()\n",
    "                if len(self.__subpackets) == self.__expected_subpackets:\n",
    "                    break\n",
    "            if len(self.__subpackets) != self.__expected_subpackets:\n",
    "                raise AssertionError(f\"expected {self.__expected_subpackets} subpackets, found {len(self.__subpackets)} instead\")\n",
    "            self.__remainder = self.__subpackets[-1].remainder\n",
    "            self.__subpackets[-1].reset_remainder()\n",
    "            self.__bits = self.__bits[:18]\n",
    "        else:\n",
    "            self.__subpacket_length = int(self.__bits[7:22], 2)\n",
    "            self.__subpackets.append(Packet(self.__bits[22:22+self.__subpacket_length], self.InputType.BINARY))\n",
    "            while self.__subpackets[-1].has_remainder():\n",
    "                self.__subpackets.append(Packet(self.__subpackets[-1].remainder, self.InputType.BINARY))\n",
    "                self.__subpackets[-2].reset_remainder()\n",
    "            self.__remainder = self.__bits[22+self.__subpacket_length:]\n",
    "            self.__bits = self.__bits[:22]\n",
    "    \n",
    "    def __parse_literal_value(self) -> None:\n",
    "        if not self.packet_type == self.PacketType.LITERAL:\n",
    "            raise AssertionError(\"packet is not LITERAL\")\n",
    "        \n",
    "        self.__literal_bits = \"\"\n",
    "        i = 6\n",
    "        for i in range(6, len(self.__bits), 5):\n",
    "            self.__literal_bits += self.__bits[i+1:i+5]\n",
    "            if self.__bits[i] == \"0\":\n",
    "                break\n",
    "        self.__remainder = self.__bits[(i+5):]\n",
    "        self.__bits = self.__bits[:(i+5)]\n",
    "        self.__literal_value = int(self.__literal_bits, 2)\n",
    "    \n",
    "    @property\n",
    "    def operator_label(self) -> str:\n",
    "        return {\n",
    "            0:\"SUM\", 1:\"PROD\", 2:\"MIN\", 3:\"MAX\",\n",
    "            4:\"VAL\", 5:\"GT\", 6:\"LT\", 7:\"ET\"\n",
    "        }[self.packet_id]\n",
    "    \n",
    "    def calculate(self) -> int:\n",
    "        if self.packet_id == 0:\n",
    "            return sum([sp.calculate() for sp in self.__subpackets])\n",
    "        elif self.packet_id == 1:\n",
    "            return np.prod([sp.calculate() for sp in self.__subpackets])\n",
    "        elif self.packet_id == 2:\n",
    "            return np.min([sp.calculate() for sp in self.__subpackets])\n",
    "        elif self.packet_id == 3:\n",
    "            return np.max([sp.calculate() for sp in self.__subpackets])\n",
    "        elif self.packet_id == 4:\n",
    "            if self.packet_type != self.PacketType.LITERAL:\n",
    "                raise AssertionError(\"packet ID 4 should be type LITERAL\")\n",
    "            return self.__literal_value\n",
    "        elif self.packet_id == 5:\n",
    "            if not self.n_subpackets == 2:\n",
    "                raise AssertionError(f\"expected 2 subpackets, {self.n_subpackets} instead.\")\n",
    "            return int(self.__subpackets[0].calculate() > self.__subpackets[1].calculate())\n",
    "        elif self.packet_id == 6:\n",
    "            if not self.n_subpackets == 2:\n",
    "                raise AssertionError(f\"expected 2 subpackets, {self.n_subpackets} instead.\")\n",
    "            return int(self.__subpackets[0].calculate() < self.__subpackets[1].calculate())\n",
    "        elif self.packet_id == 7:\n",
    "            if not self.n_subpackets == 2:\n",
    "                raise AssertionError(f\"expected 2 subpackets, {self.n_subpackets} instead.\")\n",
    "            return int(self.__subpackets[0].calculate() == self.__subpackets[1].calculate())\n",
    "    \n",
    "    def __repr__(self) -> str:\n",
    "        printable = f\"\"\"|\\n|--{self.bits}{\":\" if len(self.remainder) > 0 else \"\"}{self.remainder}\"\"\"\n",
    "        printable += f\"\\n|  Version {self.version} ({self.__bits[:3]}), packet type: {self.packet_type.name} ({self.operator_label})\"\n",
    "        printable += f\"\\n|  Packet ID #{self.packet_id} ({self.__bits[3:6]}), length {len(self.__bits)}\"\"\"\n",
    "        if self.packet_type == self.PacketType.LITERAL:\n",
    "            printable += f\"\\n|  Value: {self.calculate()} ({self.__literal_bits})\"\n",
    "            return printable\n",
    "        \n",
    "        printable += f\"\\n|  Length type ID: {self.length_type_ID}\\n|  Contains {self.n_subpackets} subpackets.\\n|  Value: {self.calculate()}\"\"\"\n",
    "        return printable\n",
    "    \n",
    "    def deep_print(self, silent: bool=False) -> str:\n",
    "        printable = f\"{self}\\n\"\n",
    "        for sp in self.__subpackets:\n",
    "            printable += \"|  \" + sp.deep_print(True).replace(\"\\n|  \", \"\\n|  |  \").replace(\"\\n|--\", \"\\n|  |--\")\n",
    "        if not silent:\n",
    "            print(printable)\n",
    "        return printable"
   ]
  },
  {
   "cell_type": "code",
   "execution_count": 3,
   "id": "b66a9b8e-2d0e-42e0-8be4-f0cb3f92a848",
   "metadata": {
    "tags": []
   },
   "outputs": [
    {
     "data": {
      "text/plain": [
       "6"
      ]
     },
     "execution_count": 3,
     "metadata": {},
     "output_type": "execute_result"
    }
   ],
   "source": [
    "packet = Packet(\"D2FE28\")\n",
    "#s = packet.deep_print()\n",
    "packet.iterative_version_sum()"
   ]
  },
  {
   "cell_type": "code",
   "execution_count": 4,
   "id": "e9a37666-bd67-48e0-80e9-d4935c9910e8",
   "metadata": {},
   "outputs": [],
   "source": [
    "packet = Packet(\"38006F45291200\")\n",
    "#s = packet.deep_print()"
   ]
  },
  {
   "cell_type": "code",
   "execution_count": 5,
   "id": "ae5c657b-ecad-42e2-ab7a-9925cb7ecb81",
   "metadata": {},
   "outputs": [],
   "source": [
    "packet = Packet(\"EE00D40C823060\")\n",
    "#s = packet.deep_print()"
   ]
  },
  {
   "cell_type": "code",
   "execution_count": 6,
   "id": "1cc79445-7e4e-49e6-8d1a-006b3735be0e",
   "metadata": {
    "tags": []
   },
   "outputs": [
    {
     "data": {
      "text/plain": [
       "16"
      ]
     },
     "execution_count": 6,
     "metadata": {},
     "output_type": "execute_result"
    }
   ],
   "source": [
    "packet = Packet(\"8A004A801A8002F478\")\n",
    "#s = packet.deep_print()\n",
    "packet.iterative_version_sum()"
   ]
  },
  {
   "cell_type": "code",
   "execution_count": 7,
   "id": "7b9e8a19-8026-4681-94a7-d6f062a871f0",
   "metadata": {
    "tags": []
   },
   "outputs": [
    {
     "data": {
      "text/plain": [
       "12"
      ]
     },
     "execution_count": 7,
     "metadata": {},
     "output_type": "execute_result"
    }
   ],
   "source": [
    "packet = Packet(\"620080001611562C8802118E34\")\n",
    "#s = packet.deep_print()\n",
    "packet.iterative_version_sum()"
   ]
  },
  {
   "cell_type": "code",
   "execution_count": 8,
   "id": "752a9b53-17f8-4318-81a2-6c20518fac70",
   "metadata": {
    "tags": []
   },
   "outputs": [
    {
     "data": {
      "text/plain": [
       "23"
      ]
     },
     "execution_count": 8,
     "metadata": {},
     "output_type": "execute_result"
    }
   ],
   "source": [
    "packet = Packet(\"C0015000016115A2E0802F182340\")\n",
    "#s = packet.deep_print()\n",
    "packet.iterative_version_sum()"
   ]
  },
  {
   "cell_type": "code",
   "execution_count": 9,
   "id": "307a766e-09d0-42d2-b398-12ff4fd542ed",
   "metadata": {
    "tags": []
   },
   "outputs": [
    {
     "data": {
      "text/plain": [
       "31"
      ]
     },
     "execution_count": 9,
     "metadata": {},
     "output_type": "execute_result"
    }
   ],
   "source": [
    "packet = Packet(\"A0016C880162017C3686B18A3D4780\")\n",
    "#s = packet.deep_print()\n",
    "packet.iterative_version_sum()"
   ]
  },
  {
   "cell_type": "code",
   "execution_count": 10,
   "id": "380f3422-3546-40c1-b036-cf1066fb3951",
   "metadata": {
    "tags": []
   },
   "outputs": [
    {
     "data": {
      "text/plain": [
       "906"
      ]
     },
     "execution_count": 10,
     "metadata": {},
     "output_type": "execute_result"
    }
   ],
   "source": [
    "with open(\"../data/day16.dat\", \"r\") as IH:\n",
    "    hexadec = next(IH).strip()\n",
    "packet = Packet(hexadec)\n",
    "#s = packet.deep_print()\n",
    "packet.iterative_version_sum()"
   ]
  },
  {
   "cell_type": "markdown",
   "id": "0e5721e7-8848-4ff0-8b0a-4b6a0c44f636",
   "metadata": {
    "tags": []
   },
   "source": [
    "## --- Part Two ---\n",
    "\n",
    "Now that you have the structure of your transmission decoded, you can calculate the value of the expression it represents.\n",
    "\n",
    "Literal values (type ID 4) represent a single number as described above. The remaining type IDs are more interesting:\n",
    "\n",
    "- Packets with type ID 0 are sum packets - their value is the sum of the values of their sub-packets. If they only have a single sub-packet, their value is the value of the sub-packet.\n",
    "- Packets with type ID 1 are product packets - their value is the result of multiplying together the values of their sub-packets. If they only have a single sub-packet, their value is the value of the sub-packet.\n",
    "- Packets with type ID 2 are minimum packets - their value is the minimum of the values of their sub-packets.\n",
    "- Packets with type ID 3 are maximum packets - their value is the maximum of the values of their sub-packets.\n",
    "- Packets with type ID 5 are greater than packets - their value is 1 if the value of the first sub-packet is greater than the value of the second sub-packet; otherwise, their value is 0. These packets always have exactly two sub-packets.\n",
    "- Packets with type ID 6 are less than packets - their value is 1 if the value of the first sub-packet is less than the value of the second sub-packet; otherwise, their value is 0. These packets always have exactly two sub-packets.\n",
    "- Packets with type ID 7 are equal to packets - their value is 1 if the value of the first sub-packet is equal to the value of the second sub-packet; otherwise, their value is 0. These packets always have exactly two sub-packets.\n",
    "\n",
    "Using these rules, you can now work out the value of the outermost packet in your BITS transmission.\n",
    "\n",
    "For example:\n",
    "\n",
    "- C200B40A82 finds the sum of 1 and 2, resulting in the value 3.\n",
    "- 04005AC33890 finds the product of 6 and 9, resulting in the value 54.\n",
    "- 880086C3E88112 finds the minimum of 7, 8, and 9, resulting in the value 7.\n",
    "- CE00C43D881120 finds the maximum of 7, 8, and 9, resulting in the value 9.\n",
    "- D8005AC2A8F0 produces 1, because 5 is less than 15.\n",
    "- F600BC2D8F produces 0, because 5 is not greater than 15.\n",
    "- 9C005AC2F8F0 produces 0, because 5 is not equal to 15.\n",
    "- 9C0141080250320F1802104A08 produces 1, because 1 + 3 = 2 * 2.\n",
    "\n",
    "What do you get if you evaluate the expression represented by your hexadecimal-encoded BITS transmission?\n"
   ]
  },
  {
   "cell_type": "code",
   "execution_count": 11,
   "id": "418fc038-79fd-45f8-a78c-933917de6389",
   "metadata": {
    "tags": []
   },
   "outputs": [
    {
     "data": {
      "text/plain": [
       "3"
      ]
     },
     "execution_count": 11,
     "metadata": {},
     "output_type": "execute_result"
    }
   ],
   "source": [
    "packet = Packet(\"C200B40A82\")\n",
    "#packet.deep_print()\n",
    "packet.calculate()"
   ]
  },
  {
   "cell_type": "code",
   "execution_count": 12,
   "id": "afda0498-084c-4be0-99c3-6b2c36383704",
   "metadata": {
    "tags": []
   },
   "outputs": [
    {
     "data": {
      "text/plain": [
       "54"
      ]
     },
     "execution_count": 12,
     "metadata": {},
     "output_type": "execute_result"
    }
   ],
   "source": [
    "packet = Packet(\"04005AC33890\")\n",
    "#packet.deep_print()\n",
    "packet.calculate()"
   ]
  },
  {
   "cell_type": "code",
   "execution_count": 13,
   "id": "f07eda8e-f812-4b92-a175-e04a2eae9c06",
   "metadata": {
    "tags": []
   },
   "outputs": [
    {
     "data": {
      "text/plain": [
       "7"
      ]
     },
     "execution_count": 13,
     "metadata": {},
     "output_type": "execute_result"
    }
   ],
   "source": [
    "packet = Packet(\"880086C3E88112\")\n",
    "#packet.deep_print()\n",
    "packet.calculate()"
   ]
  },
  {
   "cell_type": "code",
   "execution_count": 14,
   "id": "4285d6ab-388f-428e-b959-5fd0e2407e9d",
   "metadata": {
    "tags": []
   },
   "outputs": [
    {
     "data": {
      "text/plain": [
       "9"
      ]
     },
     "execution_count": 14,
     "metadata": {},
     "output_type": "execute_result"
    }
   ],
   "source": [
    "packet = Packet(\"CE00C43D881120\")\n",
    "#packet.deep_print()\n",
    "packet.calculate()"
   ]
  },
  {
   "cell_type": "code",
   "execution_count": 15,
   "id": "80d79893-63ae-46f8-aa2d-845d5386f681",
   "metadata": {
    "tags": []
   },
   "outputs": [
    {
     "data": {
      "text/plain": [
       "1"
      ]
     },
     "execution_count": 15,
     "metadata": {},
     "output_type": "execute_result"
    }
   ],
   "source": [
    "packet = Packet(\"D8005AC2A8F0\")\n",
    "#packet.deep_print()\n",
    "packet.calculate()"
   ]
  },
  {
   "cell_type": "code",
   "execution_count": 16,
   "id": "6bd54b6b-7e95-4d94-8acd-dacb002cd9a1",
   "metadata": {
    "tags": []
   },
   "outputs": [
    {
     "data": {
      "text/plain": [
       "0"
      ]
     },
     "execution_count": 16,
     "metadata": {},
     "output_type": "execute_result"
    }
   ],
   "source": [
    "packet = Packet(\"F600BC2D8F\")\n",
    "#packet.deep_print()\n",
    "packet.calculate()"
   ]
  },
  {
   "cell_type": "code",
   "execution_count": 17,
   "id": "08c5ac32-879c-4792-a04b-07493b8978de",
   "metadata": {
    "tags": []
   },
   "outputs": [
    {
     "data": {
      "text/plain": [
       "0"
      ]
     },
     "execution_count": 17,
     "metadata": {},
     "output_type": "execute_result"
    }
   ],
   "source": [
    "packet = Packet(\"9C005AC2F8F0\")\n",
    "#packet.deep_print()\n",
    "packet.calculate()"
   ]
  },
  {
   "cell_type": "code",
   "execution_count": 18,
   "id": "d591daca-ebe1-4d6c-8d65-0db9471b0800",
   "metadata": {
    "tags": []
   },
   "outputs": [
    {
     "data": {
      "text/plain": [
       "1"
      ]
     },
     "execution_count": 18,
     "metadata": {},
     "output_type": "execute_result"
    }
   ],
   "source": [
    "packet = Packet(\"9C0141080250320F1802104A08\")\n",
    "#packet.deep_print()\n",
    "packet.calculate()"
   ]
  },
  {
   "cell_type": "code",
   "execution_count": 19,
   "id": "dae25dc9-ada3-4cf2-8701-20b82f23fd12",
   "metadata": {},
   "outputs": [
    {
     "data": {
      "text/plain": [
       "819324480368"
      ]
     },
     "execution_count": 19,
     "metadata": {},
     "output_type": "execute_result"
    }
   ],
   "source": [
    "with open(\"../data/day16.dat\", \"r\") as IH:\n",
    "    hexadec = next(IH).strip()\n",
    "packet = Packet(hexadec)\n",
    "packet.calculate()"
   ]
  }
 ],
 "metadata": {
  "kernelspec": {
   "display_name": "Python 3 (ipykernel)",
   "language": "python",
   "name": "python3"
  },
  "language_info": {
   "codemirror_mode": {
    "name": "ipython",
    "version": 3
   },
   "file_extension": ".py",
   "mimetype": "text/x-python",
   "name": "python",
   "nbconvert_exporter": "python",
   "pygments_lexer": "ipython3",
   "version": "3.8.5"
  }
 },
 "nbformat": 4,
 "nbformat_minor": 5
}
