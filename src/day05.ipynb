{
 "cells": [
  {
   "cell_type": "markdown",
   "id": "6e6fa072-2f85-4b9e-8686-536a26dae501",
   "metadata": {},
   "source": [
    "# --- Day 5: Hydrothermal Venture ---\n",
    "## Part 1\n",
    "You come across a field of hydrothermal vents on the ocean floor! These vents constantly produce large, opaque clouds, so it would be best to avoid them if possible.\n",
    "\n",
    "They tend to form in lines; the submarine helpfully produces a list of nearby lines of vents (your puzzle input) for you to review. For example:\n",
    "```\n",
    "0,9 -> 5,9\n",
    "8,0 -> 0,8\n",
    "9,4 -> 3,4\n",
    "2,2 -> 2,1\n",
    "7,0 -> 7,4\n",
    "6,4 -> 2,0\n",
    "0,9 -> 2,9\n",
    "3,4 -> 1,4\n",
    "0,0 -> 8,8\n",
    "5,5 -> 8,2\n",
    "```\n",
    "Each line of vents is given as a line segment in the format x1,y1 -> x2,y2 where x1,y1 are the coordinates of one end the line segment and x2,y2 are the coordinates of the other end. These line segments include the points at both ends. In other words:\n",
    "```\n",
    "    An entry like 1,1 -> 1,3 covers points 1,1, 1,2, and 1,3.\n",
    "    An entry like 9,7 -> 7,7 covers points 9,7, 8,7, and 7,7.\n",
    "```\n",
    "For now, only consider horizontal and vertical lines: lines where either x1 = x2 or y1 = y2.\n",
    "\n",
    "So, the horizontal and vertical lines from the above list would produce the following diagram:\n",
    "```\n",
    ".......1..\n",
    "..1....1..\n",
    "..1....1..\n",
    ".......1..\n",
    ".112111211\n",
    "..........\n",
    "..........\n",
    "..........\n",
    "..........\n",
    "222111....\n",
    "```\n",
    "In this diagram, the top left corner is 0,0 and the bottom right corner is 9,9. Each position is shown as the number of lines which cover that point or . if no line covers that point. The top-left pair of 1s, for example, comes from 2,2 -> 2,1; the very bottom row is formed by the overlapping lines 0,9 -> 5,9 and 0,9 -> 2,9.\n",
    "\n",
    "To avoid the most dangerous areas, you need to determine the number of points where at least two lines overlap. In the above example, this is anywhere in the diagram with a 2 or larger - a total of 5 points.\n",
    "\n",
    "Consider only horizontal and vertical lines. At how many points do at least two lines overlap?\n"
   ]
  },
  {
   "cell_type": "code",
   "execution_count": 1,
   "id": "b6464fd8-9c49-44dc-b3f3-bdb71b8c78b0",
   "metadata": {},
   "outputs": [],
   "source": [
    "import numpy as np\n",
    "import pandas as pd\n",
    "import pyparsing as pp"
   ]
  },
  {
   "cell_type": "code",
   "execution_count": 2,
   "id": "c2a8aa5d-011b-4152-9ea5-95c87cf5d8ab",
   "metadata": {},
   "outputs": [],
   "source": [
    "single_row_dfs = []\n",
    "with open(\"../data/day05.dat\", \"r\") as IH:\n",
    "    pattern = pp.Word(pp.nums).set_results_name(\"x1\") + \",\" + pp.Word(pp.nums).set_results_name(\"y1\")\n",
    "    pattern += pp.Word(\" -> \") + pp.Word(pp.nums).set_results_name(\"x2\") + \",\" + pp.Word(pp.nums).set_results_name(\"y2\")\n",
    "    for line in IH:\n",
    "        parsed = pattern.parse_string(line.strip())\n",
    "        single_row_dfs.append(pd.DataFrame(dict(x1=int(parsed.x1), y1=int(parsed.y1), x2=int(parsed.x2), y2=int(parsed.y2)), index=pd.Index([0])))\n",
    "coords = pd.concat(single_row_dfs).reset_index(drop=True)"
   ]
  },
  {
   "cell_type": "code",
   "execution_count": 3,
   "id": "a5d3d9e6-5fd8-491b-acf2-2f2b254fcfca",
   "metadata": {},
   "outputs": [],
   "source": [
    "vertical_lines = coords.loc[coords[\"x1\"] == coords[\"x2\"]]\n",
    "horizontal_lines = coords.loc[coords[\"y1\"] == coords[\"y2\"]]\n",
    "max_grid_side = max(horizontal_lines.max().max(), vertical_lines.max().max())+1"
   ]
  },
  {
   "cell_type": "code",
   "execution_count": 4,
   "id": "4300f6f1-78aa-43d2-a35e-a9578440ded1",
   "metadata": {},
   "outputs": [],
   "source": [
    "map_grid = np.zeros((max_grid_side, max_grid_side))"
   ]
  },
  {
   "cell_type": "code",
   "execution_count": 5,
   "id": "a8dab81c-162e-4a48-9dd0-9057e2d09025",
   "metadata": {},
   "outputs": [],
   "source": [
    "for i in horizontal_lines.index:\n",
    "    line = horizontal_lines.loc[i, :]\n",
    "    start, stop = sorted([line[\"x1\"], line[\"x2\"]])\n",
    "    map_grid[line[\"y1\"], slice(start, stop+1)] += 1"
   ]
  },
  {
   "cell_type": "code",
   "execution_count": 6,
   "id": "21d190fc-a596-4c94-9eb1-379dcb0ef2f1",
   "metadata": {},
   "outputs": [],
   "source": [
    "for i in vertical_lines.index:\n",
    "    line = vertical_lines.loc[i, :]\n",
    "    start, stop = sorted([line[\"y1\"], line[\"y2\"]])\n",
    "    map_grid[slice(start, stop+1), line[\"x1\"]] += 1"
   ]
  },
  {
   "cell_type": "code",
   "execution_count": 7,
   "id": "335c36dd-d007-415a-8e2e-2d07e95afb5c",
   "metadata": {},
   "outputs": [
    {
     "data": {
      "text/plain": [
       "5092"
      ]
     },
     "execution_count": 7,
     "metadata": {},
     "output_type": "execute_result"
    }
   ],
   "source": [
    "(map_grid >= 2).sum()"
   ]
  },
  {
   "cell_type": "markdown",
   "id": "2f8694d2-5ded-4eab-a8fb-2267eae7c130",
   "metadata": {},
   "source": [
    "## --- Part Two ---\n",
    "\n",
    "Unfortunately, considering only horizontal and vertical lines doesn't give you the full picture; you need to also consider diagonal lines.\n",
    "\n",
    "Because of the limits of the hydrothermal vent mapping system, the lines in your list will only ever be horizontal, vertical, or a diagonal line at exactly 45 degrees. In other words:\n",
    "```\n",
    "    An entry like 1,1 -> 3,3 covers points 1,1, 2,2, and 3,3.\n",
    "    An entry like 9,7 -> 7,9 covers points 9,7, 8,8, and 7,9.\n",
    "```\n",
    "Considering all lines from the above example would now produce the following diagram:\n",
    "```\n",
    "1.1....11.\n",
    ".111...2..\n",
    "..2.1.111.\n",
    "...1.2.2..\n",
    ".112313211\n",
    "...1.2....\n",
    "..1...1...\n",
    ".1.....1..\n",
    "1.......1.\n",
    "222111....\n",
    "```\n",
    "You still need to determine the number of points where at least two lines overlap. In the above example, this is still anywhere in the diagram with a 2 or larger - now a total of 12 points.\n",
    "\n",
    "Consider all of the lines. At how many points do at least two lines overlap?\n"
   ]
  },
  {
   "cell_type": "code",
   "execution_count": 8,
   "id": "4644cf1b-f829-49c1-a095-c7301c9b1732",
   "metadata": {},
   "outputs": [],
   "source": [
    "diagonal_lines = coords.loc[np.logical_and(coords[\"x1\"] != coords[\"x2\"], coords[\"y1\"] != coords[\"y2\"])]"
   ]
  },
  {
   "cell_type": "code",
   "execution_count": 9,
   "id": "b72df066-3685-4216-8c32-bc223969416c",
   "metadata": {},
   "outputs": [],
   "source": [
    "for i in diagonal_lines.index:\n",
    "    line = diagonal_lines.loc[i, :]\n",
    "    x_step = 1 if line[\"x1\"] <= line[\"x2\"] else -1\n",
    "    x_range = list(range(line[\"x1\"], line[\"x2\"]+x_step, x_step))\n",
    "    y_step = 1 if line[\"y1\"] <= line[\"y2\"] else -1\n",
    "    y_range = list(range(line[\"y1\"], line[\"y2\"]+y_step, y_step))\n",
    "    for pid in range(len(x_range)):\n",
    "        map_grid[y_range[pid], x_range[pid]] += 1"
   ]
  },
  {
   "cell_type": "code",
   "execution_count": 10,
   "id": "a7ab7540-3f77-4df9-aea3-bb138c10c62a",
   "metadata": {},
   "outputs": [
    {
     "data": {
      "text/plain": [
       "20484"
      ]
     },
     "execution_count": 10,
     "metadata": {},
     "output_type": "execute_result"
    }
   ],
   "source": [
    "(map_grid >= 2).sum()"
   ]
  }
 ],
 "metadata": {
  "kernelspec": {
   "display_name": "Python 3",
   "language": "python",
   "name": "python3"
  },
  "language_info": {
   "codemirror_mode": {
    "name": "ipython",
    "version": 3
   },
   "file_extension": ".py",
   "mimetype": "text/x-python",
   "name": "python",
   "nbconvert_exporter": "python",
   "pygments_lexer": "ipython3",
   "version": "3.9.5"
  }
 },
 "nbformat": 4,
 "nbformat_minor": 5
}
