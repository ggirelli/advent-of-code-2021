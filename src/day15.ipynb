{
 "cells": [
  {
   "cell_type": "markdown",
   "id": "3bf7a671-1de5-42b7-bdf3-6e60c2f354a6",
   "metadata": {},
   "source": [
    "# --- Day 15: Chiton ---\n",
    "## Part 1\n",
    "You've almost reached the exit of the cave, but the walls are getting closer together. Your submarine can barely still fit, though; the main problem is that the walls of the cave are covered in chitons, and it would be best not to bump any of them.\n",
    "\n",
    "The cavern is large, but has a very low ceiling, restricting your motion to two dimensions. The shape of the cavern resembles a square; a quick scan of chiton density produces a map of risk level throughout the cave (your puzzle input). For example:\n",
    "```\n",
    "1163751742\n",
    "1381373672\n",
    "2136511328\n",
    "3694931569\n",
    "7463417111\n",
    "1319128137\n",
    "1359912421\n",
    "3125421639\n",
    "1293138521\n",
    "2311944581\n",
    "```\n",
    "You start in the top left position, your destination is the bottom right position, and you cannot move diagonally. The number at each position is its risk level; to determine the total risk of an entire path, add up the risk levels of each position you enter (that is, don't count the risk level of your starting position unless you enter it; leaving it adds no risk to your total).\n",
    "\n",
    "Your goal is to find a path with the lowest total risk. In this example, a path with the lowest total risk is highlighted here:\n",
    "```\n",
    "1163751742\n",
    "1381373672\n",
    "2136511328\n",
    "3694931569\n",
    "7463417111\n",
    "1319128137\n",
    "1359912421\n",
    "3125421639\n",
    "1293138521\n",
    "2311944581\n",
    "```\n",
    "The total risk of this path is 40 (the starting position is never entered, so its risk is not counted).\n",
    "\n",
    "What is the lowest total risk of any path from the top left to the bottom right?\n"
   ]
  },
  {
   "cell_type": "code",
   "execution_count": 1,
   "id": "73569a46-03c6-4c69-be02-e316ecec00a7",
   "metadata": {},
   "outputs": [],
   "source": [
    "import igraph as ig\n",
    "from matplotlib import pyplot as plt\n",
    "import numpy as np\n",
    "from tqdm import tqdm\n",
    "from typing import List, Tuple"
   ]
  },
  {
   "cell_type": "code",
   "execution_count": 2,
   "id": "986f7349-ab8c-4c5a-bf2f-05dc85ac7ff5",
   "metadata": {},
   "outputs": [],
   "source": [
    "weight_lines: List[List[int]] = []\n",
    "with open(\"../data/day15.dat\", \"r\") as IH:\n",
    "    for line in IH:\n",
    "        weight_lines.append([int(weight) for weight in line.strip()])\n",
    "weights = np.array(weight_lines)"
   ]
  },
  {
   "cell_type": "code",
   "execution_count": 3,
   "id": "870f9202-d387-4901-ac83-86582d9be029",
   "metadata": {},
   "outputs": [],
   "source": [
    "def build_graph(weights: np.ndarray) -> ig.Graph:\n",
    "    graph = ig.Graph(directed=True)\n",
    "    graph.add_vertices(list(range(np.prod(weights.shape))))\n",
    "    \n",
    "    node_names = np.ravel_multi_index(np.indices(weights.shape), weights.shape)\n",
    "\n",
    "    edges: List[Tuple[int, int]] = []\n",
    "    edge_weights: List[int] = []\n",
    "    for x in tqdm(range(weights.shape[1]), desc=\"x\"):\n",
    "        for y in range(weights.shape[0]):\n",
    "            current_node = node_names[y, x]\n",
    "            # right\n",
    "            if x < weights.shape[1]-1:\n",
    "                edges.append((current_node, node_names[y, x+1]))\n",
    "                edge_weights.append(weights[y, x+1])\n",
    "            # left\n",
    "            if x > 0:\n",
    "                edges.append((current_node, node_names[y, x-1]))\n",
    "                edge_weights.append(weights[y, x-1])\n",
    "            # bottom\n",
    "            if y < weights.shape[0]-1:\n",
    "                edges.append((current_node, node_names[y+1, x]))\n",
    "                edge_weights.append(weights[y+1, x])\n",
    "            # top\n",
    "            if y > 0:\n",
    "                edges.append((current_node, node_names[y-1, x]))\n",
    "                edge_weights.append(weights[y-1, x])\n",
    "    graph.add_edges(edges, attributes=dict(weight=edge_weights))\n",
    "    \n",
    "    return graph"
   ]
  },
  {
   "cell_type": "code",
   "execution_count": 4,
   "id": "911c3742-7340-4e04-96fe-459d00057647",
   "metadata": {},
   "outputs": [
    {
     "name": "stderr",
     "output_type": "stream",
     "text": [
      "x: 100%|█████████████████████████████████████████████████████████████| 100/100 [00:00<00:00, 3758.81it/s]\n"
     ]
    }
   ],
   "source": [
    "graph = build_graph(weights)"
   ]
  },
  {
   "cell_type": "code",
   "execution_count": 5,
   "id": "95546ed4-e73f-40c0-b880-8134e80eddd8",
   "metadata": {},
   "outputs": [],
   "source": [
    "#print(graph)"
   ]
  },
  {
   "cell_type": "code",
   "execution_count": 6,
   "id": "eb4f0250-856c-4c33-9a0e-9a6a98aff082",
   "metadata": {},
   "outputs": [],
   "source": [
    "#ig.plot(graph, layout=graph.layout_grid(),\n",
    "#        vertex_size=2, vertex_frame_width=0,\n",
    "#        edge_curved=False, edge_width=.1, edge_arrow_size=.1, edge_arrow_width=.2, edge_color=\"black\")"
   ]
  },
  {
   "cell_type": "code",
   "execution_count": 7,
   "id": "a6999031-738d-4de0-aca9-7e5d172d2381",
   "metadata": {},
   "outputs": [
    {
     "data": {
      "text/plain": [
       "702"
      ]
     },
     "execution_count": 7,
     "metadata": {},
     "output_type": "execute_result"
    }
   ],
   "source": [
    "shortest_path_vertex_names = graph.get_shortest_paths(0, np.prod(weights.shape)-1, weights=\"weight\")[0]\n",
    "vertex_coords = np.unravel_index(shortest_path_vertex_names, weights.shape)\n",
    "np.sum(weights[vertex_coords[0], vertex_coords[1]])-weights[0, 0]"
   ]
  },
  {
   "cell_type": "markdown",
   "id": "34abb432-b325-4ed8-b030-6aae0d152592",
   "metadata": {},
   "source": [
    "## --- Part Two ---\n",
    "\n",
    "Now that you know how to find low-risk paths in the cave, you can try to find your way out.\n",
    "\n",
    "The entire cave is actually five times larger in both dimensions than you thought; the area you originally scanned is just one tile in a 5x5 tile area that forms the full map. Your original map tile repeats to the right and downward; each time the tile repeats to the right or downward, all of its risk levels are 1 higher than the tile immediately up or left of it. However, risk levels above 9 wrap back around to 1. So, if your original map had some position with a risk level of 8, then that same position on each of the 25 total tiles would be as follows:\n",
    "```\n",
    "8 9 1 2 3\n",
    "9 1 2 3 4\n",
    "1 2 3 4 5\n",
    "2 3 4 5 6\n",
    "3 4 5 6 7\n",
    "```\n",
    "Each single digit above corresponds to the example position with a value of 8 on the top-left tile. Because the full map is actually five times larger in both dimensions, that position appears a total of 25 times, once in each duplicated tile, with the values shown above.\n",
    "\n",
    "Here is the full five-times-as-large version of the first example above, with the original map in the top left corner highlighted:\n",
    "```\n",
    "11637517422274862853338597396444961841755517295286\n",
    "13813736722492484783351359589446246169155735727126\n",
    "21365113283247622439435873354154698446526571955763\n",
    "36949315694715142671582625378269373648937148475914\n",
    "74634171118574528222968563933317967414442817852555\n",
    "13191281372421239248353234135946434524615754563572\n",
    "13599124212461123532357223464346833457545794456865\n",
    "31254216394236532741534764385264587549637569865174\n",
    "12931385212314249632342535174345364628545647573965\n",
    "23119445813422155692453326671356443778246755488935\n",
    "22748628533385973964449618417555172952866628316397\n",
    "24924847833513595894462461691557357271266846838237\n",
    "32476224394358733541546984465265719557637682166874\n",
    "47151426715826253782693736489371484759148259586125\n",
    "85745282229685639333179674144428178525553928963666\n",
    "24212392483532341359464345246157545635726865674683\n",
    "24611235323572234643468334575457944568656815567976\n",
    "42365327415347643852645875496375698651748671976285\n",
    "23142496323425351743453646285456475739656758684176\n",
    "34221556924533266713564437782467554889357866599146\n",
    "33859739644496184175551729528666283163977739427418\n",
    "35135958944624616915573572712668468382377957949348\n",
    "43587335415469844652657195576376821668748793277985\n",
    "58262537826937364893714847591482595861259361697236\n",
    "96856393331796741444281785255539289636664139174777\n",
    "35323413594643452461575456357268656746837976785794\n",
    "35722346434683345754579445686568155679767926678187\n",
    "53476438526458754963756986517486719762859782187396\n",
    "34253517434536462854564757396567586841767869795287\n",
    "45332667135644377824675548893578665991468977611257\n",
    "44961841755517295286662831639777394274188841538529\n",
    "46246169155735727126684683823779579493488168151459\n",
    "54698446526571955763768216687487932779859814388196\n",
    "69373648937148475914825958612593616972361472718347\n",
    "17967414442817852555392896366641391747775241285888\n",
    "46434524615754563572686567468379767857948187896815\n",
    "46833457545794456865681556797679266781878137789298\n",
    "64587549637569865174867197628597821873961893298417\n",
    "45364628545647573965675868417678697952878971816398\n",
    "56443778246755488935786659914689776112579188722368\n",
    "55172952866628316397773942741888415385299952649631\n",
    "57357271266846838237795794934881681514599279262561\n",
    "65719557637682166874879327798598143881961925499217\n",
    "71484759148259586125936169723614727183472583829458\n",
    "28178525553928963666413917477752412858886352396999\n",
    "57545635726865674683797678579481878968159298917926\n",
    "57944568656815567976792667818781377892989248891319\n",
    "75698651748671976285978218739618932984172914319528\n",
    "56475739656758684176786979528789718163989182927419\n",
    "67554889357866599146897761125791887223681299833479\n",
    "```\n",
    "Equipped with the full map, you can now find a path from the top left corner to the bottom right corner with the lowest total risk:\n",
    "```\n",
    "11637517422274862853338597396444961841755517295286\n",
    "13813736722492484783351359589446246169155735727126\n",
    "21365113283247622439435873354154698446526571955763\n",
    "36949315694715142671582625378269373648937148475914\n",
    "74634171118574528222968563933317967414442817852555\n",
    "13191281372421239248353234135946434524615754563572\n",
    "13599124212461123532357223464346833457545794456865\n",
    "31254216394236532741534764385264587549637569865174\n",
    "12931385212314249632342535174345364628545647573965\n",
    "23119445813422155692453326671356443778246755488935\n",
    "22748628533385973964449618417555172952866628316397\n",
    "24924847833513595894462461691557357271266846838237\n",
    "32476224394358733541546984465265719557637682166874\n",
    "47151426715826253782693736489371484759148259586125\n",
    "85745282229685639333179674144428178525553928963666\n",
    "24212392483532341359464345246157545635726865674683\n",
    "24611235323572234643468334575457944568656815567976\n",
    "42365327415347643852645875496375698651748671976285\n",
    "23142496323425351743453646285456475739656758684176\n",
    "34221556924533266713564437782467554889357866599146\n",
    "33859739644496184175551729528666283163977739427418\n",
    "35135958944624616915573572712668468382377957949348\n",
    "43587335415469844652657195576376821668748793277985\n",
    "58262537826937364893714847591482595861259361697236\n",
    "96856393331796741444281785255539289636664139174777\n",
    "35323413594643452461575456357268656746837976785794\n",
    "35722346434683345754579445686568155679767926678187\n",
    "53476438526458754963756986517486719762859782187396\n",
    "34253517434536462854564757396567586841767869795287\n",
    "45332667135644377824675548893578665991468977611257\n",
    "44961841755517295286662831639777394274188841538529\n",
    "46246169155735727126684683823779579493488168151459\n",
    "54698446526571955763768216687487932779859814388196\n",
    "69373648937148475914825958612593616972361472718347\n",
    "17967414442817852555392896366641391747775241285888\n",
    "46434524615754563572686567468379767857948187896815\n",
    "46833457545794456865681556797679266781878137789298\n",
    "64587549637569865174867197628597821873961893298417\n",
    "45364628545647573965675868417678697952878971816398\n",
    "56443778246755488935786659914689776112579188722368\n",
    "55172952866628316397773942741888415385299952649631\n",
    "57357271266846838237795794934881681514599279262561\n",
    "65719557637682166874879327798598143881961925499217\n",
    "71484759148259586125936169723614727183472583829458\n",
    "28178525553928963666413917477752412858886352396999\n",
    "57545635726865674683797678579481878968159298917926\n",
    "57944568656815567976792667818781377892989248891319\n",
    "75698651748671976285978218739618932984172914319528\n",
    "56475739656758684176786979528789718163989182927419\n",
    "67554889357866599146897761125791887223681299833479\n",
    "```\n",
    "The total risk of this path is 315 (the starting position is still never entered, so its risk is not counted).\n",
    "\n",
    "Using the full map, what is the lowest total risk of any path from the top left to the bottom right?\n"
   ]
  },
  {
   "cell_type": "code",
   "execution_count": 8,
   "id": "19243bd0-38fc-47ad-93c8-4a46145efbb2",
   "metadata": {},
   "outputs": [],
   "source": [
    "import copy as cp"
   ]
  },
  {
   "cell_type": "code",
   "execution_count": 9,
   "id": "f057fead-869a-4f7c-bd01-88e8c19a1fa4",
   "metadata": {},
   "outputs": [],
   "source": [
    "larger_weights = np.zeros(np.array(weights.shape)*5)\n",
    "for x_shift in range(5):\n",
    "    for y_shift in range(5):\n",
    "        x_slice = slice(weights.shape[1]*x_shift, weights.shape[1]*(x_shift+1))\n",
    "        y_slice = slice(weights.shape[0]*y_shift, weights.shape[0]*(y_shift+1))\n",
    "        increased_weights = cp.copy(weights)\n",
    "        for step in range(x_shift + y_shift):\n",
    "            increased_weights += 1\n",
    "            increased_weights[increased_weights > 9] = 1\n",
    "        larger_weights[y_slice, x_slice] = increased_weights"
   ]
  },
  {
   "cell_type": "code",
   "execution_count": 10,
   "id": "c9eea881-45dc-4e97-9daa-289bbf0a3bcb",
   "metadata": {},
   "outputs": [
    {
     "name": "stderr",
     "output_type": "stream",
     "text": [
      "x: 100%|██████████████████████████████████████████████████████████████| 500/500 [00:00<00:00, 682.37it/s]\n"
     ]
    }
   ],
   "source": [
    "graph = build_graph(larger_weights)"
   ]
  },
  {
   "cell_type": "code",
   "execution_count": 11,
   "id": "bcaca081-962f-447d-87ed-81fdcd8ed7ab",
   "metadata": {},
   "outputs": [
    {
     "data": {
      "text/plain": [
       "2955.0"
      ]
     },
     "execution_count": 11,
     "metadata": {},
     "output_type": "execute_result"
    }
   ],
   "source": [
    "shortest_path_vertex_names = graph.get_shortest_paths(0, np.prod(larger_weights.shape)-1, weights=\"weight\")[0]\n",
    "vertex_coords = np.unravel_index(shortest_path_vertex_names, larger_weights.shape)\n",
    "np.sum(larger_weights[vertex_coords[0], vertex_coords[1]])-larger_weights[0, 0]"
   ]
  }
 ],
 "metadata": {
  "kernelspec": {
   "display_name": "Python 3 (ipykernel)",
   "language": "python",
   "name": "python3"
  },
  "language_info": {
   "codemirror_mode": {
    "name": "ipython",
    "version": 3
   },
   "file_extension": ".py",
   "mimetype": "text/x-python",
   "name": "python",
   "nbconvert_exporter": "python",
   "pygments_lexer": "ipython3",
   "version": "3.8.5"
  }
 },
 "nbformat": 4,
 "nbformat_minor": 5
}
