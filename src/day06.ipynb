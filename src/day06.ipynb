{
 "cells": [
  {
   "cell_type": "markdown",
   "id": "299af473-cf03-47d5-b340-34ecf8b0809e",
   "metadata": {},
   "source": [
    "# --- Day 6: Lanternfish ---\n",
    "## Part 1\n",
    "The sea floor is getting steeper. Maybe the sleigh keys got carried this way?\n",
    "\n",
    "A massive school of glowing lanternfish swims past. They must spawn quickly to reach such large numbers - maybe exponentially quickly? You should model their growth rate to be sure.\n",
    "\n",
    "Although you know nothing about this specific species of lanternfish, you make some guesses about their attributes. Surely, each lanternfish creates a new lanternfish once every 7 days.\n",
    "\n",
    "However, this process isn't necessarily synchronized between every lanternfish - one lanternfish might have 2 days left until it creates another lanternfish, while another might have 4. So, you can model each fish as a single number that represents the number of days until it creates a new lanternfish.\n",
    "\n",
    "Furthermore, you reason, a new lanternfish would surely need slightly longer before it's capable of producing more lanternfish: two more days for its first cycle.\n",
    "\n",
    "So, suppose you have a lanternfish with an internal timer value of 3:\n",
    "```\n",
    "    After one day, its internal timer would become 2.\n",
    "    After another day, its internal timer would become 1.\n",
    "    After another day, its internal timer would become 0.\n",
    "    After another day, its internal timer would reset to 6, and it would create a new lanternfish with an internal timer of 8.\n",
    "    After another day, the first lanternfish would have an internal timer of 5, and the second lanternfish would have an internal timer of 7.\n",
    "```\n",
    "A lanternfish that creates a new fish resets its timer to 6, not 7 (because 0 is included as a valid timer value). The new lanternfish starts with an internal timer of 8 and does not start counting down until the next day.\n",
    "\n",
    "Realizing what you're trying to do, the submarine automatically produces a list of the ages of several hundred nearby lanternfish (your puzzle input). For example, suppose you were given the following list:\n",
    "```\n",
    "3,4,3,1,2\n",
    "```\n",
    "This list means that the first fish has an internal timer of 3, the second fish has an internal timer of 4, and so on until the fifth fish, which has an internal timer of 2. Simulating these fish over several days would proceed as follows:\n",
    "```\n",
    "Initial state: 3,4,3,1,2\n",
    "After  1 day:  2,3,2,0,1\n",
    "After  2 days: 1,2,1,6,0,8\n",
    "After  3 days: 0,1,0,5,6,7,8\n",
    "After  4 days: 6,0,6,4,5,6,7,8,8\n",
    "After  5 days: 5,6,5,3,4,5,6,7,7,8\n",
    "After  6 days: 4,5,4,2,3,4,5,6,6,7\n",
    "After  7 days: 3,4,3,1,2,3,4,5,5,6\n",
    "After  8 days: 2,3,2,0,1,2,3,4,4,5\n",
    "After  9 days: 1,2,1,6,0,1,2,3,3,4,8\n",
    "After 10 days: 0,1,0,5,6,0,1,2,2,3,7,8\n",
    "After 11 days: 6,0,6,4,5,6,0,1,1,2,6,7,8,8,8\n",
    "After 12 days: 5,6,5,3,4,5,6,0,0,1,5,6,7,7,7,8,8\n",
    "After 13 days: 4,5,4,2,3,4,5,6,6,0,4,5,6,6,6,7,7,8,8\n",
    "After 14 days: 3,4,3,1,2,3,4,5,5,6,3,4,5,5,5,6,6,7,7,8\n",
    "After 15 days: 2,3,2,0,1,2,3,4,4,5,2,3,4,4,4,5,5,6,6,7\n",
    "After 16 days: 1,2,1,6,0,1,2,3,3,4,1,2,3,3,3,4,4,5,5,6,8\n",
    "After 17 days: 0,1,0,5,6,0,1,2,2,3,0,1,2,2,2,3,3,4,4,5,7,8\n",
    "After 18 days: 6,0,6,4,5,6,0,1,1,2,6,0,1,1,1,2,2,3,3,4,6,7,8,8,8,8\n",
    "```\n",
    "Each day, a 0 becomes a 6 and adds a new 8 to the end of the list, while each other number decreases by 1 if it was present at the start of the day.\n",
    "\n",
    "In this example, after 18 days, there are a total of 26 fish. After 80 days, there would be a total of 5934.\n",
    "\n",
    "Find a way to simulate lanternfish. How many lanternfish would there be after 80 days?\n"
   ]
  },
  {
   "cell_type": "code",
   "execution_count": 1,
   "id": "90f36b95-e4e6-4f16-b453-14f4ef99e386",
   "metadata": {},
   "outputs": [],
   "source": [
    "import copy as cp\n",
    "import numpy as np\n",
    "from tqdm import tqdm"
   ]
  },
  {
   "cell_type": "code",
   "execution_count": 2,
   "id": "2487168b-dd58-4c9e-94e2-71933f71f869",
   "metadata": {},
   "outputs": [],
   "source": [
    "with open(\"../data/day06.dat\", \"r\") as IH:\n",
    "    lf_timers = np.array(next(IH).strip().split(\",\")).astype(\"i\")"
   ]
  },
  {
   "cell_type": "code",
   "execution_count": 3,
   "id": "e6288684-84f7-4ec1-bc65-30aa23d90d0b",
   "metadata": {},
   "outputs": [],
   "source": [
    "lf_timers_example = np.array(\"3,4,3,1,2\".split(\",\")).astype(\"i\")"
   ]
  },
  {
   "cell_type": "code",
   "execution_count": 4,
   "id": "8756d417-80d4-4772-ad09-882b50903442",
   "metadata": {},
   "outputs": [],
   "source": [
    "sim_timers = np.zeros((9)).astype(\"i\")\n",
    "for i in lf_timers:\n",
    "    sim_timers[i] += 1"
   ]
  },
  {
   "cell_type": "code",
   "execution_count": 5,
   "id": "9de50101-9230-46e2-9c85-6b41d54f9dc9",
   "metadata": {},
   "outputs": [
    {
     "name": "stderr",
     "output_type": "stream",
     "text": [
      "day: 100%|██████████| 80/80 [00:00<00:00, 91854.45it/s]\n"
     ]
    }
   ],
   "source": [
    "for i in tqdm(range(80), desc=\"day\"):\n",
    "    new_sim_timers = np.zeros((9))\n",
    "    for timer_value in range(1, sim_timers.shape[0]):\n",
    "        new_sim_timers[timer_value-1] = sim_timers[timer_value]\n",
    "    new_sim_timers[6] += sim_timers[0]\n",
    "    new_sim_timers[8] = sim_timers[0]\n",
    "    sim_timers = new_sim_timers.astype(\"i\")"
   ]
  },
  {
   "cell_type": "code",
   "execution_count": 6,
   "id": "6e2619f9-ffcc-4f47-bd96-894b2866a129",
   "metadata": {},
   "outputs": [
    {
     "data": {
      "text/plain": [
       "396210"
      ]
     },
     "execution_count": 6,
     "metadata": {},
     "output_type": "execute_result"
    }
   ],
   "source": [
    "sim_timers.sum()"
   ]
  },
  {
   "cell_type": "markdown",
   "id": "d0c6b473-5b9f-4d0e-89cc-01f40f117715",
   "metadata": {},
   "source": [
    "## --- Part Two ---\n",
    "\n",
    "Suppose the lanternfish live forever and have unlimited food and space. Would they take over the entire ocean?\n",
    "\n",
    "After 256 days in the example above, there would be a total of 26984457539 lanternfish!\n",
    "\n",
    "How many lanternfish would there be after 256 days?\n"
   ]
  },
  {
   "cell_type": "code",
   "execution_count": 7,
   "id": "adbe53fe-f5e8-491b-a7a6-857c5c5761c7",
   "metadata": {},
   "outputs": [],
   "source": [
    "sim_timers = np.zeros((9)).astype(\"int64\")\n",
    "for i in lf_timers:\n",
    "    sim_timers[i] += 1"
   ]
  },
  {
   "cell_type": "code",
   "execution_count": 8,
   "id": "45798a62-4a8a-4dc1-bade-00a2b938600e",
   "metadata": {},
   "outputs": [
    {
     "name": "stderr",
     "output_type": "stream",
     "text": [
      "day: 100%|██████████| 256/256 [00:00<00:00, 116243.57it/s]\n"
     ]
    }
   ],
   "source": [
    "for i in tqdm(range(256), desc=\"day\"):\n",
    "    new_sim_timers = np.zeros((9))\n",
    "    for timer_value in range(1, sim_timers.shape[0]):\n",
    "        new_sim_timers[timer_value-1] = sim_timers[timer_value]\n",
    "    new_sim_timers[6] += sim_timers[0]\n",
    "    new_sim_timers[8] = sim_timers[0]\n",
    "    sim_timers = new_sim_timers.astype(\"int64\")"
   ]
  },
  {
   "cell_type": "code",
   "execution_count": 9,
   "id": "ccf8c841-0f52-47b8-bfa1-159406cb8cdf",
   "metadata": {},
   "outputs": [
    {
     "data": {
      "text/plain": [
       "1770823541496"
      ]
     },
     "execution_count": 9,
     "metadata": {},
     "output_type": "execute_result"
    }
   ],
   "source": [
    "sim_timers.sum()"
   ]
  }
 ],
 "metadata": {
  "kernelspec": {
   "display_name": "Python 3",
   "language": "python",
   "name": "python3"
  },
  "language_info": {
   "codemirror_mode": {
    "name": "ipython",
    "version": 3
   },
   "file_extension": ".py",
   "mimetype": "text/x-python",
   "name": "python",
   "nbconvert_exporter": "python",
   "pygments_lexer": "ipython3",
   "version": "3.9.5"
  }
 },
 "nbformat": 4,
 "nbformat_minor": 5
}
